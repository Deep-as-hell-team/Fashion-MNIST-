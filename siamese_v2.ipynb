{
 "cells": [
  {
   "cell_type": "code",
   "execution_count": 65,
   "metadata": {
    "ExecuteTime": {
     "end_time": "2017-11-01T09:12:05.957451Z",
     "start_time": "2017-11-01T09:12:05.835090Z"
    },
    "collapsed": false,
    "run_control": {
     "frozen": false,
     "read_only": false
    }
   },
   "outputs": [],
   "source": [
    "import random\n",
    "import numpy as np\n",
    "\n",
    "import keras\n",
    "from keras.datasets import mnist\n",
    "from keras.models import Sequential, Model\n",
    "from keras.layers import Dense, Dropout, Flatten\n",
    "from keras.layers import Dense, Dropout, Input, Lambda\n",
    "from keras.initializers import RandomNormal\n",
    "from keras.optimizers import SGD, RMSprop, Adam\n",
    "from keras import backend as K\n",
    "from sklearn.metrics import classification_report\n",
    "from itertools import product\n",
    "from sklearn.metrics import accuracy_score as accuracy\n",
    "from keras.layers import Conv2D, MaxPooling2D, GlobalAveragePooling2D\n",
    "from keras.preprocessing.image import ImageDataGenerator\n",
    "from keras.callbacks import LearningRateScheduler\n",
    "import matplotlib.pyplot as plt\n",
    "from scipy.stats import mode\n",
    "from sklearn.model_selection import train_test_split\n",
    "from sklearn.metrics import confusion_matrix\n",
    "import math\n",
    "import itertools\n",
    "\n",
    "np.random.seed(1337)  # for reproducibility\n",
    "input_dim = 784\n",
    "num_classses = 10\n",
    "IMG_ROWS, IMG_COLS = 28, 28\n",
    "num_classes = 10\n",
    "\n",
    "classes = np.array(['T-shirt/top', 'Trouser', 'Pullover', 'Dress',\n",
    "                    'Coat', 'Sandal', 'Shirt', 'Sneaker', 'Bag', 'Ankle boot'])\n",
    "\n",
    "np.set_printoptions(precision=2)"
   ]
  },
  {
   "cell_type": "code",
   "execution_count": 2,
   "metadata": {
    "ExecuteTime": {
     "end_time": "2017-11-01T08:34:01.268922Z",
     "start_time": "2017-11-01T08:34:00.261411Z"
    },
    "code_folding": [],
    "collapsed": false,
    "run_control": {
     "frozen": false,
     "read_only": false
    }
   },
   "outputs": [],
   "source": [
    "class DataHandler():\n",
    "    \n",
    "    def __is_channel_first(self):\n",
    "        return K.image_data_format() == 'channels_first'\n",
    "    \n",
    "    def __preprocess_data(self, X, y):\n",
    "        '''Preprocess data such that it convert 1D X into 3D array (h, w, c) and normalized the data.'''\n",
    "    \n",
    "        if self.__is_channel_first():\n",
    "            X = X.reshape(X.shape[0], 1, self.img_rows, self.img_cols)\n",
    "        else:\n",
    "            X = X.reshape(X.shape[0], self.img_rows,self. img_cols, 1)\n",
    "\n",
    "        X = X.astype('float32') / 255\n",
    "        # convert class vectors to binary class matrices\n",
    "        #y = keras.utils.to_categorical(y, num_classes)\n",
    "        return X, y\n",
    "    \n",
    "    def load_data(self, path = None):\n",
    "        if path is None:\n",
    "            self.__load_fashion_data()\n",
    "    \n",
    "    def __load_fashion_data(self, path = \"FashionData/FashionPDEngDM.npz\"):\n",
    "        '''Load Fashion MNIST data set.'''\n",
    "\n",
    "        self.img_rows, self.img_cols = 28, 28\n",
    "        self.ind_04567 = [0, 4, 5 ,6, 7]\n",
    "        self.ind_12389 = [1, 2, 3 ,8, 9]\n",
    "        data = np.load(path) # load data\n",
    "        \n",
    "        # Extracting data\n",
    "        # - Classes 04567 have one data observation per class. \n",
    "        # - Classes 12389 have 6000 observation for class.\n",
    "        \n",
    "        x_train_12389, y_train_12389 = data[\"x_train_12389_labeled\"], data[\"y_train_12389_labeled\"]\n",
    "        x_test_12389, y_test_12389 = data[\"x_test_12389\"], data[\"y_test_12389\"]\n",
    "        \n",
    "        x_train_04567, y_train_04567 = data[\"x_train_04567_labeled\"], data[\"y_train_04567_labeled\"]\n",
    "        x_train_04567_unlabeled = data[\"x_train_04567_unlabeled\"]\n",
    "        x_test_04567, y_test_04567 = data[\"x_test_04567\"], data[\"y_test_04567\"]\n",
    "        \n",
    "        self.input_shape = (1, self.img_rows, self.img_cols) if self.__is_channel_first() else (self.img_rows, self.img_cols, 1)            \n",
    "        \n",
    "        # preprocessing & saving data\n",
    "        self.x_train_12389, self.y_train_12389 = self.__preprocess_data(x_train_12389, y_train_12389)        \n",
    "        self.x_train_04567, self.y_train_04567 = self.__preprocess_data(x_train_04567, y_train_04567)        \n",
    "        \n",
    "        self.x_test_12389, self.y_test_12389 = self.__preprocess_data(x_test_12389, y_test_12389)\n",
    "        self.x_test_04567, self.y_test_04567 = self.__preprocess_data(x_test_04567, y_test_04567)\n",
    "        \n",
    "        # set the origianlly loaded data        \n",
    "        self.__set_original_data(self.x_train_04567, self.y_train_04567,\n",
    "                                 self.x_train_12389, self.y_train_12389,\n",
    "                                 self.x_test_04567, self.y_test_04567,\n",
    "                                 self.x_test_12389, self.y_test_12389\n",
    "                                 )\n",
    "        \n",
    "    def __visualize_augmented_data(self, x, y, x_batch, y_batch, num_columns = 2):\n",
    "        '''Visualize a batch of augmented data.'''\n",
    "        \n",
    "        f, axarr = plt.subplots(x.shape[0], num_columns, figsize = (5, 5))\n",
    "        for j in range(len(x_batch)):\n",
    "            ground_ind = np.where(y == y_batch[j])\n",
    "            axarr[j, 0].imshow(x[ground_ind].reshape((self.img_rows, self.img_rows)), cmap='gray')   \n",
    "            axarr[j, 1].imshow(x_batch[j].reshape((self.img_rows, self.img_rows)), cmap='gray')\n",
    "            axarr[j, 0].axis('off')\n",
    "            axarr[j, 1].axis('off')\n",
    "        plt.show()   \n",
    "    \n",
    "    def augment_data(self, use_train, c_04567, N, visualize = False, **kwargs):        \n",
    "        ''' Augment currectly loaded data.\n",
    "    \n",
    "        Params: \n",
    "        - use_train: BOOL wheather to augment train data\n",
    "        - class_04567: BOOL wheather to augment 04567 or 12389\n",
    "        - N: number of images to generates per class\n",
    "        - visualize: whether to visualize the augmented images\n",
    "        - **kwaks: parameters to the Keras.ImageGenerator\n",
    "        \n",
    "        Return: (x, y) augmneted data\n",
    "        '''\n",
    "        \n",
    "        num_columns = 2 # for priting\n",
    "        if kwargs is None:\n",
    "            print(\"Parameters for the image generator are empty. Running the generator with the defautl params.\")\n",
    "            \n",
    "        x, y = self.__get_original_data(return_train = use_train, c_04567 = c_04567)        \n",
    "        \n",
    "        img_gen = ImageDataGenerator(**kwargs)    \n",
    "        #print(img_gen)\n",
    "        img_gen.fit(x)\n",
    "        \n",
    "        data_gen = img_gen.flow(x, y, batch_size = x.shape[0]) # we generate as much as the size of the data\n",
    "        \n",
    "        x_aug = []\n",
    "        y_aug = []        \n",
    "        \n",
    "        for i, data_batch in enumerate(data_gen):    \n",
    "            if N <= i: # in every iteration, one instance per class is generated\n",
    "                break\n",
    "                \n",
    "            x_batch, y_batch = data_batch\n",
    "            x_aug.append(x_batch)\n",
    "            y_aug.append(y_batch)\n",
    "            \n",
    "            if visualize: \n",
    "                self.__visualize_augmented_data(x, y, x_batch, y_batch)\n",
    "\n",
    "        # reshaping such that the array has the shape of (# data, 28, 28, 1)\n",
    "        x_aug = np.array(x_aug).reshape((-1, self.img_rows, self.img_rows, 1)) \n",
    "        \n",
    "        #reshaping to shape of (# data)\n",
    "        y_aug = np.array(y_aug).reshape((-1)) \n",
    "        \n",
    "        self.__set_data(x_aug, y_aug, set_train = use_train, c_04567 = c_04567)        \n",
    "    \n",
    "    def get_data(self, return_train, c_04567): \n",
    "        '''Getter for the loaded data (can be alrady augmented).'''\n",
    "        \n",
    "        if return_train and c_04567:\n",
    "            return self.x_train_04567, self.y_train_04567\n",
    "        \n",
    "        if return_train and not c_04567:\n",
    "            return self.x_train_12389, self.y_train_12389\n",
    "        \n",
    "        if not return_train and c_04567:\n",
    "            return self.x_test_04567, self.y_test_04567\n",
    "        \n",
    "        if not return_train and not c_04567:\n",
    "            return self.x_test_12389, self.y_test_12389        \n",
    "        \n",
    "        \n",
    "    def __set_data(self, x, y, set_train, c_04567):     \n",
    "        '''Setter for the loaded data.'''\n",
    "        if set_train and c_04567:\n",
    "            self.x_train_04567, self.y_train_04567 = x, y\n",
    "        \n",
    "        if set_train and not c_04567:\n",
    "            self.x_train_12389, self.y_train_12389 = x, y\n",
    "        \n",
    "        if not set_train and c_04567:\n",
    "            self.x_test_04567, self.y_test_04567 = x, y\n",
    "        \n",
    "        if not set_train and not c_04567:\n",
    "            self.x_test_12389, self.y_test_12389 = x, y   \n",
    "            \n",
    "            \n",
    "    def __get_original_data(self, return_train, c_04567): \n",
    "        '''Getter for the initially loaded data (they are untouched).'''\n",
    "        \n",
    "        if return_train and c_04567:\n",
    "            return self.x_train_04567_orig, self.y_train_04567_orig\n",
    "        \n",
    "        if return_train and not c_04567:\n",
    "            return self.x_train_12389_orig, self.y_train_12389_orig\n",
    "        \n",
    "        if not return_train and c_04567:\n",
    "            return self.x_test_04567_orig, self.y_test_04567_orig\n",
    "        \n",
    "        if not return_train and not c_04567:\n",
    "            return self.x_test_12389_orig, self.y_test_12389_orig \n",
    "    \n",
    "    def __set_original_data(self, x_train_04567, y_train_04567, x_train_12389, y_train_12389, x_test_04567, y_test_04567,\n",
    "                           x_test_12389, y_test_12389): \n",
    "        '''Setter for the initially loaded data (they are untouched) - is called only once.'''\n",
    "        \n",
    "        self.x_train_04567_orig, self.y_train_04567_orig = np.copy(x_train_04567), np.copy(y_train_04567)\n",
    "        self.x_train_12389_orig, self.y_train_12389_orig = np.copy(x_train_12389), np.copy(y_train_12389)\n",
    "        self.x_test_04567_orig, self.y_test_04567_orig = np.copy(x_test_04567), np.copy(y_test_04567)\n",
    "        self.x_test_12389_orig, self.y_test_12389_orig = np.copy(x_test_12389), np.copy(y_test_12389)\n",
    "           \n",
    "    \n",
    "    def __get_val_data(self):\n",
    "        raise(NotImplementedError())\n",
    "    \n",
    "    def train_model(self):\n",
    "        raise(NotImplementedError())\n",
    "    \n",
    "    def validate_model(self):\n",
    "        raise(NotImplementedError())\n",
    "    \n",
    "    def test_model(self):\n",
    "        raise(NotImplementedError())"
   ]
  },
  {
   "cell_type": "code",
   "execution_count": 3,
   "metadata": {
    "ExecuteTime": {
     "end_time": "2017-11-01T08:34:01.309009Z",
     "start_time": "2017-11-01T08:34:01.270914Z"
    },
    "collapsed": true,
    "run_control": {
     "frozen": false,
     "read_only": false
    }
   },
   "outputs": [],
   "source": [
    "def step_decay(epoch):\n",
    "    '''Learning rate step decay following the original paper.'''\n",
    "    initial_lrate = 0.001\n",
    "    drop = 0.99\n",
    "    epochs_drop = 1\n",
    "    lrate = initial_lrate * math.pow(drop, math.floor((1+epoch)/epochs_drop))\n",
    "    return lrate\n",
    "\n",
    "def contrastive_loss(y, d):\n",
    "    ''' Contrastive loss from Hadsell-et-al.'06\n",
    "        http://yann.lecun.com/exdb/publis/pdf/hadsell-chopra-lecun-06.pdf\n",
    "    '''\n",
    "    margin = 1\n",
    "    return K.mean((1 - y) * K.square(d) + y * K.square(K.maximum(margin - d, 0)))\n",
    "\n",
    "def get_abs_diff(vects):\n",
    "    x, y = vects\n",
    "    return K.abs(x - y)  \n",
    "\n",
    "def get_l2_norm(vects):\n",
    "    x, y = vects\n",
    "    return K.sqrt(K.mean(K.square(x - y)))\n",
    "\n",
    "def abs_diff_output_shape(shapes):\n",
    "    shape1, shape2 = shapes\n",
    "    return shape1 "
   ]
  },
  {
   "cell_type": "code",
   "execution_count": 108,
   "metadata": {
    "ExecuteTime": {
     "end_time": "2017-11-01T10:12:14.498648Z",
     "start_time": "2017-11-01T10:12:14.387365Z"
    },
    "collapsed": true
   },
   "outputs": [],
   "source": [
    "import abc\n",
    "\n",
    "class NNNetwork():\n",
    "    \n",
    "    def __init__(self, data_handler):\n",
    "        self.dh = data_handler\n",
    "    \n",
    "    @abc.abstractmethod\n",
    "    def define_model_structure(self):\n",
    "        '''Define a model structure and saves it in self.model.'''\n",
    "        pass\n",
    "    \n",
    "    @abc.abstractmethod\n",
    "    def train_model(self):\n",
    "        '''Trains the define model'''\n",
    "        pass\n",
    "    \n",
    "    def compute_accuracy(self, y_val_pred_proba, y_true):\n",
    "        '''Compute verification accuracy of the siamese model on pairs data set.'''\n",
    "        \n",
    "        if self.model is None:\n",
    "            raise ValueError('Self.model is not defined. Run define_model_structure() and train_model() first. ')\n",
    "\n",
    "        # getting predictions\n",
    "        y_val_pred_class = y_val_pred_proba > 0.5 \n",
    "        y_val_pred_class = y_val_pred_class.reshape(-1)\n",
    "        \n",
    "        # compute accuracy\n",
    "        val_accur = np.sum(y_val_pred_class == y_true) / len(y_true)\n",
    "        \n",
    "        print('* Accuracy of classifying the val set: {:.2%}'.format(val_accur))\n",
    "        return val_accur\n",
    "    \n",
    "    def plot_confusion_matrix(self, cm, classes_names, normalize = False, title = 'Confusion matrix', cmap = plt.cm.Blues):\n",
    "        ''' Plots the confusion matrix.\n",
    "        \n",
    "        @:param cm: confusion matrix computed by sklearn\n",
    "        @:param classes_names: names of the classes\n",
    "        @:param normalize: whether to print normlized matrix\n",
    "        @:param title: title of the confusion matrix\n",
    "        @:param cmap: colors of the plot\n",
    "        \n",
    "        '''\n",
    "        if normalize:\n",
    "            cm = cm.astype('float') / cm.sum(axis=1)[:, np.newaxis]\n",
    "            print(\"Normalized confusion matrix\")       \n",
    "        else:\n",
    "            print('Confusion matrix, without normalization')\n",
    "        \n",
    "        print(cm)\n",
    "        \n",
    "        plt.figure()\n",
    "        plt.imshow(cm, interpolation='nearest', cmap=cmap)\n",
    "        plt.title(title)\n",
    "        plt.colorbar()\n",
    "        tick_marks = np.arange(len(classes_names))\n",
    "        plt.xticks(tick_marks, classes_names, rotation=45)\n",
    "        plt.yticks(tick_marks, classes_names)\n",
    "\n",
    "        fmt = '.2f' if normalize else 'd'\n",
    "        thresh = cm.max() / 2.\n",
    "        for i, j in itertools.product(range(cm.shape[0]), range(cm.shape[1])):\n",
    "            plt.text(j, i, format(cm[i, j], fmt),\n",
    "                     horizontalalignment=\"center\",\n",
    "                     color=\"white\" if cm[i, j] > thresh else \"black\")\n",
    "\n",
    "        plt.tight_layout()\n",
    "        plt.ylabel('True label')\n",
    "        plt.xlabel('Predicted label')\n",
    "        plt.show()\n",
    "        "
   ]
  },
  {
   "cell_type": "code",
   "execution_count": 109,
   "metadata": {
    "ExecuteTime": {
     "end_time": "2017-11-01T10:12:15.308802Z",
     "start_time": "2017-11-01T10:12:14.593903Z"
    },
    "collapsed": false,
    "run_control": {
     "frozen": false,
     "read_only": false
    }
   },
   "outputs": [],
   "source": [
    "class SiameseNN(NNNetwork):\n",
    "            \n",
    "    def create_pairs(self):\n",
    "        ''' Create positive and negative pairs between training data of 04567. \n",
    "        Alternates between positive and negative pairs. \n",
    "\n",
    "        Maximally creates (min(class_size) - 1) * num_classes pairs.\n",
    "        '''\n",
    "        \n",
    "        x, y = self.dh.x_train_04567, self.dh.y_train_04567\n",
    "        \n",
    "        inds = self.dh.ind_04567\n",
    "        class_indices = [np.where(y == i)[0] for i in inds]\n",
    "        num_classes = len(inds)\n",
    "        \n",
    "        x_pairs = []\n",
    "        y_pairs = []    \n",
    "        min_data_per_class = min([len(class_indices[d]) for d in range(num_classes)])\n",
    "        for d in range(num_classes):\n",
    "            for i in range(min_data_per_class - 1):\n",
    "                z1, z2 = class_indices[d][i], class_indices[d][i+1]\n",
    "                x_pairs += [[x[z1], x[z2]]]\n",
    "                inc = random.randrange(1, num_classes)\n",
    "                dn = (d + inc) % num_classes # this guarantees that the same class will not be selected\n",
    "                z1, z2 = class_indices[d][i], class_indices[dn][i]\n",
    "                x_pairs += [[x[z1], x[z2]]]\n",
    "                y_pairs += [1, 0]\n",
    "        \n",
    "        x_pairs, y_pairs = np.array(x_pairs), np.array(y_pairs)                       \n",
    "        self.x_train_pairs, self.x_val_pairs, self.y_train_pairs, self.y_val_pairs = train_test_split(x_pairs,\n",
    "                                                                                                      y_pairs,\n",
    "                                                                                                      test_size=0.3,\n",
    "                                                                                                      random_state=42)\n",
    "        print(\"Number of training pairs is %d \" % self.x_train_pairs.shape[0])\n",
    "        print(\"Number of val pairs is %d \" % self.x_val_pairs.shape[0])  \n",
    "    \n",
    "    \n",
    "    def define_model_structure(self):\n",
    "        '''Define network structure by Koch. \n",
    "        10, 10 --> 7,7, --> 4,4 --> 4,4\n",
    "        \n",
    "        '''     \n",
    "        conv_init_w = RandomNormal(mean=0.0, stddev=0.01)\n",
    "        init_b = RandomNormal(mean=0.5, stddev=0.01)        \n",
    "        fc_init_w = RandomNormal(mean=0.0, stddev=2 * 0.1)\n",
    "        \n",
    "        model = Sequential()\n",
    "        model.add(Conv2D(64, kernel_size=(7, 7), activation='relu', input_shape=self.dh.input_shape,\n",
    "                         kernel_initializer = conv_init_w, bias_initializer = init_b))\n",
    "        model.add(MaxPooling2D(pool_size=(2, 2), strides = 2))\n",
    "        model.add(Conv2D(128, (4, 4), activation='relu', kernel_initializer = conv_init_w, bias_initializer = init_b))\n",
    "        model.add(MaxPooling2D(pool_size=(2, 2), strides = 2))\n",
    "        model.add(Conv2D(128, (4, 4), activation='relu', kernel_initializer = conv_init_w, bias_initializer = init_b))\n",
    "        model.add(Flatten())\n",
    "        \n",
    "        input_a = Input(shape = self.dh.input_shape)\n",
    "        input_b = Input(shape = self.dh.input_shape)\n",
    "\n",
    "        # because we re-use the same instance `base_network`,\n",
    "        # the weights of the network will be shared across the two branches\n",
    "        \n",
    "        processed_a = model(input_a)\n",
    "        processed_b = model(input_b)\n",
    "\n",
    "        #abs_diff = Lambda(get_l2_norm, output_shape = abs_diff_output_shape)([processed_a, processed_b])\n",
    "        \n",
    "        abs_diff = Lambda(get_abs_diff, output_shape = abs_diff_output_shape)([processed_a, processed_b])\n",
    "\n",
    "        flattened_weighted_distance = Dense(1, \n",
    "                                            activation = 'sigmoid',\n",
    "                                            kernel_initializer = fc_init_w,\n",
    "                                            bias_initializer = init_b) (abs_diff)\n",
    "\n",
    "        model = Model(input=[input_a, input_b], output = flattened_weighted_distance)\n",
    "        return model\n",
    "    \n",
    "    def train_model(self, model, nb_epoch = 5, model_name = 'siamese.h5', load_model = False):\n",
    "        '''Train model.'''\n",
    "        \n",
    "        if load_model:            \n",
    "            self.model = keras.models.load_model(model_name)\n",
    "        else:            \n",
    "            if self.x_train_pairs.shape[0] == 0:\n",
    "                raise InputError('You need to create training data first. Run create_pairs(..) method first.')\n",
    "\n",
    "\n",
    "            optimizer = Adam()\n",
    "            model.compile(loss = 'binary_crossentropy', optimizer = optimizer)\n",
    "\n",
    "            lrate = LearningRateScheduler(step_decay)\n",
    "            callbacks_list = [lrate]        \n",
    "\n",
    "            model.fit([self.x_train_pairs[:, 0], self.x_train_pairs[:, 1]], #pairs \n",
    "                      self.y_train_pairs, #labels of the pairs\n",
    "                      callbacks = callbacks_list,\n",
    "                      batch_size = 128,\n",
    "                      nb_epoch=nb_epoch)\n",
    "\n",
    "            model.save(model_name)\n",
    "            self.model = model\n",
    "    \n",
    "    def compute_accuracy(self):\n",
    "        '''Computes the verification accuracy.'''\n",
    "        y_val_pred_proba = self.model.predict([self.x_val_pairs[:, 0], self.x_val_pairs[:, 1]])\n",
    "        NNNetwork.compute_accuracy(self, y_val_pred_proba = y_val_pred_proba, y_true = self.y_val_pairs)\n",
    "    \n",
    "    def compute_one_shot_accuracy(self, max_acc_level = 1, k = 1):\n",
    "        '''Compute test accuracy of classification on test data 04567.\n",
    "        \n",
    "        params:\n",
    "        - k: number of augmented pictures\n",
    "        - max_acc_level: if max_acc_level = 2, the class will look accuracy at level 1 and 2\n",
    "        '''\n",
    "        # generate examples (k per class) that will be couples with test data\n",
    "\n",
    "\n",
    "        #x_test_04567_aug_generated, y_test_04567_aug_generated = get_augmented_data(generator = x_train_04567_aug, \n",
    "        #                                                                                     x = x_train_04567_labeled,\n",
    "        #                                                                                     y = y_train_04567_labeled,\n",
    "        #                                                                                     N = k)\n",
    "\n",
    "        # create pairs\n",
    "        x_test_pairs = np.array(list(product(self.dh.x_test_04567, self.dh.x_train_04567_orig)))\n",
    "\n",
    "        # predict the probability of a pair being similar. \n",
    "        y_test_pred_prob = self.model.predict([x_test_pairs[:, 0], x_test_pairs[:, 1]])\n",
    "\n",
    "        # reshaping such that each row contains k*number of class probabilities \n",
    "        y_test_pred_prob = y_test_pred_prob.reshape(len(self.dh.x_test_04567), len(self.dh.x_train_04567_orig))\n",
    "\n",
    "        # getting top k prediction for a class\n",
    "        y_test_pred_class_inds = y_test_pred_prob.argsort(axis = 1)[:, -max_acc_level:]\n",
    "\n",
    "        # generating class prediction\n",
    "        #y_test_pred_k = np.array([mode(self.dh.y_train_04567_orig[y_test_pred_class_inds[i]]) \n",
    "        #                                for i in range(len(y_test_pred_class_inds))])[:, 0]\n",
    "        \n",
    "        y_test_preds = np.array([self.dh.y_train_04567_orig[y_test_pred_class_inds[i]] \n",
    "                                    for i in range(len(y_test_pred_class_inds))])\n",
    "        \n",
    "        # accur for up to max level\n",
    "        accs_at_level = []\n",
    "        for acc_level in range(1, max_acc_level + 1):            \n",
    "            # y_test_pred_k and dh.y_test_04567 needs to be 2D\n",
    "            y_test_pred_at_level = y_test_preds[:, -acc_level:]\n",
    "            test_accur = np.sum(np.any(y_test_pred_at_level == dh.y_test_04567.reshape(-1, 1), axis = 1)) / len(dh.y_test_04567)\n",
    "            accs_at_level.append({'accuracy' : test_accur, 'y_pred' : y_test_pred_at_level.reshape(-1)})\n",
    "            print('*Accuracy of classifying the test set at level {}: {:.2%}'.format(acc_level, test_accur))\n",
    "        \n",
    "        return accs_at_level, dh.y_test_04567   "
   ]
  },
  {
   "cell_type": "code",
   "execution_count": 110,
   "metadata": {
    "ExecuteTime": {
     "end_time": "2017-11-01T10:12:16.937145Z",
     "start_time": "2017-11-01T10:12:15.310808Z"
    },
    "collapsed": false,
    "run_control": {
     "frozen": false,
     "read_only": false
    }
   },
   "outputs": [],
   "source": [
    "image_gen_params = {\n",
    "'rotation_range' : 30,\n",
    "'width_shift_range' : 0.3,\n",
    "'height_shift_range' : 0.3,\n",
    "'shear_range' : 0.3,\n",
    "'horizontal_flip' : True,\n",
    "'vertical_flip' : True,\n",
    "'fill_mode': 'nearest',\n",
    "'zoom_range' : 0.2\n",
    " }\n",
    "\n",
    "\n",
    "dh = DataHandler()\n",
    "dh.load_data()\n",
    "dh.augment_data(use_train = True, c_04567 = True, N = 1000, visualize = False, **image_gen_params)"
   ]
  },
  {
   "cell_type": "code",
   "execution_count": 111,
   "metadata": {
    "ExecuteTime": {
     "end_time": "2017-11-01T10:12:19.834832Z",
     "start_time": "2017-11-01T10:12:16.939137Z"
    },
    "collapsed": false,
    "run_control": {
     "frozen": false,
     "read_only": false
    },
    "scrolled": true
   },
   "outputs": [
    {
     "name": "stdout",
     "output_type": "stream",
     "text": [
      "Number of training pairs is 6993 \n",
      "Number of val pairs is 2997 \n"
     ]
    },
    {
     "name": "stderr",
     "output_type": "stream",
     "text": [
      "C:\\Users\\azika\\AppData\\Local\\Continuum\\Anaconda3\\lib\\site-packages\\ipykernel\\__main__.py:74: UserWarning: Update your `Model` call to the Keras 2 API: `Model(outputs=Tensor(\"de..., inputs=[<tf.Tenso...)`\n"
     ]
    }
   ],
   "source": [
    "sh = SiameseNN(dh)\n",
    "sh.create_pairs()\n",
    "siam_model_structure = sh.define_model_structure()\n",
    "sh.train_model(siam_model_structure, nb_epoch = 10, load_model = True)"
   ]
  },
  {
   "cell_type": "code",
   "execution_count": 73,
   "metadata": {
    "ExecuteTime": {
     "end_time": "2017-11-01T09:46:10.801550Z",
     "start_time": "2017-11-01T09:46:07.927899Z"
    },
    "collapsed": false,
    "run_control": {
     "frozen": false,
     "read_only": false
    },
    "scrolled": true
   },
   "outputs": [
    {
     "name": "stdout",
     "output_type": "stream",
     "text": [
      "* Accuracy of classifying the val set: 97.60%\n"
     ]
    }
   ],
   "source": [
    "sh.compute_accuracy()"
   ]
  },
  {
   "cell_type": "code",
   "execution_count": 75,
   "metadata": {
    "ExecuteTime": {
     "end_time": "2017-11-01T09:54:07.965930Z",
     "start_time": "2017-11-01T09:53:45.593465Z"
    },
    "collapsed": false,
    "run_control": {
     "frozen": false,
     "read_only": false
    }
   },
   "outputs": [
    {
     "name": "stdout",
     "output_type": "stream",
     "text": [
      "*Accuracy of classifying the test set at level 1: 38.16%\n",
      "*Accuracy of classifying the test set at level 2: 52.58%\n",
      "*Accuracy of classifying the test set at level 3: 64.54%\n",
      "*Accuracy of classifying the test set at level 4: 83.92%\n",
      "*Accuracy of classifying the test set at level 5: 100.00%\n"
     ]
    }
   ],
   "source": [
    "accs_at_level, y_true_04567 = sh.compute_one_shot_accuracy(max_acc_level = 5)"
   ]
  },
  {
   "cell_type": "code",
   "execution_count": 112,
   "metadata": {
    "ExecuteTime": {
     "end_time": "2017-11-01T10:12:20.129616Z",
     "start_time": "2017-11-01T10:12:19.836837Z"
    },
    "collapsed": false
   },
   "outputs": [
    {
     "name": "stdout",
     "output_type": "stream",
     "text": [
      "Normalized confusion matrix\n",
      "[[ 0.14  0.22  0.03  0.45  0.16]\n",
      " [ 0.22  0.24  0.07  0.25  0.22]\n",
      " [ 0.04  0.03  0.61  0.11  0.21]\n",
      " [ 0.15  0.18  0.04  0.54  0.09]\n",
      " [ 0.09  0.14  0.24  0.16  0.37]]\n"
     ]
    },
    {
     "data": {
      "image/png": "[encoded data removed]",
      "text/plain": [
       "<matplotlib.figure.Figure at 0x962458bf60>"
      ]
     },
     "metadata": {},
     "output_type": "display_data"
    }
   ],
   "source": [
    "cm = confusion_matrix(y_true_04567, accs_at_level[0]['y_pred'])\n",
    "class_names_04567 = classes[np.unique(y_true_04567)]\n",
    "sh.plot_confusion_matrix(cm, classes_names=class_names_04567, normalize=True,\n",
    "                      title='Normalized confusion matrix')"
   ]
  },
  {
   "cell_type": "code",
   "execution_count": 103,
   "metadata": {
    "ExecuteTime": {
     "end_time": "2017-11-01T10:01:46.203283Z",
     "start_time": "2017-11-01T10:01:46.199273Z"
    },
    "collapsed": false
   },
   "outputs": [
    {
     "data": {
      "text/plain": [
       "array(['T-shirt/top', 'Coat', 'Sandal', 'Shirt', 'Sneaker'], \n",
       "      dtype='<U11')"
      ]
     },
     "execution_count": 103,
     "metadata": {},
     "output_type": "execute_result"
    }
   ],
   "source": [
    "class_names_04567"
   ]
  },
  {
   "cell_type": "code",
   "execution_count": 102,
   "metadata": {
    "ExecuteTime": {
     "end_time": "2017-11-01T10:01:38.169995Z",
     "start_time": "2017-11-01T10:01:38.163954Z"
    },
    "collapsed": false
   },
   "outputs": [
    {
     "data": {
      "text/plain": [
       "array([[136, 219,  29, 453, 163],\n",
       "       [221, 242,  66, 253, 218],\n",
       "       [ 35,  28, 613, 109, 215],\n",
       "       [149, 183,  39, 544,  85],\n",
       "       [ 87, 140, 242, 158, 373]])"
      ]
     },
     "execution_count": 102,
     "metadata": {},
     "output_type": "execute_result"
    }
   ],
   "source": [
    "cm"
   ]
  },
  {
   "cell_type": "code",
   "execution_count": null,
   "metadata": {
    "collapsed": true
   },
   "outputs": [],
   "source": []
  }
 ],
 "metadata": {
  "anaconda-cloud": {},
  "hide_input": false,
  "kernelspec": {
   "display_name": "Python [conda root]",
   "language": "python",
   "name": "conda-root-py"
  },
  "language_info": {
   "codemirror_mode": {
    "name": "ipython",
    "version": 3
   },
   "file_extension": ".py",
   "mimetype": "text/x-python",
   "name": "python",
   "nbconvert_exporter": "python",
   "pygments_lexer": "ipython3",
   "version": "3.5.2"
  }
 },
 "nbformat": 4,
 "nbformat_minor": 1
}
