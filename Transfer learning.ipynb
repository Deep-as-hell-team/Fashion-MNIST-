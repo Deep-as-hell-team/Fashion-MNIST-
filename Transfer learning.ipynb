{
 "cells": [
  {
   "cell_type": "code",
   "execution_count": 2,
   "metadata": {
    "ExecuteTime": {
     "end_time": "2017-10-17T08:26:24.794308",
     "start_time": "2017-10-17T08:26:08.776547"
    },
    "collapsed": false,
    "run_control": {
     "frozen": false,
     "read_only": false
    }
   },
   "outputs": [
    {
     "name": "stderr",
     "output_type": "stream",
     "text": [
      "Using TensorFlow backend.\n"
     ]
    }
   ],
   "source": [
    "# load libraries\n",
    "import keras\n",
    "from keras.models import Sequential, Model\n",
    "from keras.layers import Dense, Dropout, Flatten\n",
    "from keras.layers import Conv2D, MaxPooling2D, GlobalAveragePooling2D\n",
    "from keras import backend as K\n",
    "import numpy as np"
   ]
  },
  {
   "cell_type": "code",
   "execution_count": 6,
   "metadata": {
    "ExecuteTime": {
     "end_time": "2017-10-17T08:28:37.923853",
     "start_time": "2017-10-17T08:28:37.475850"
    },
    "collapsed": true,
    "run_control": {
     "frozen": false,
     "read_only": false
    }
   },
   "outputs": [],
   "source": [
    "# read training and test sets\n",
    "data=np.load(\"FashionData/FashionPDEngDM.npz\")\n",
    "\n",
    "##Labeled training set for classes 1,2,3,8,9 (30000 samples)\n",
    "x_train_12389_labeled=data[\"x_train_12389_labeled\"]\n",
    "y_train_12389_labeled=data[\"y_train_12389_labeled\"]\n",
    "\n",
    "##Labeled training set for classes 0,4,5,6,7 (just 5 samples)\n",
    "x_train_04567_labeled=data[\"x_train_04567_labeled\"]\n",
    "y_train_04567_labeled=data[\"y_train_04567_labeled\"]\n",
    "\n",
    "##Unlabeled training set for classes 0,4,5,6,7 (29992 samples)\n",
    "x_train_04567_unlabeled=data[\"x_train_04567_unlabeled\"]\n",
    "\n",
    "##Labeled test set for classes 1,2,3,8,9\n",
    "x_test_12389=data[\"x_test_12389\"]\n",
    "y_test_12389=data[\"y_test_12389\"]\n",
    "\n",
    "##Labeled test set for classes 0,4,5,6,7 (this is where we are interested to obtain the highest accuracy possible - project goal)\n",
    "x_test_04567=data[\"x_test_04567\"]\n",
    "y_test_04567=data[\"y_test_04567\"]\n",
    "\n",
    "\n",
    "## Example of trainining a CNN on classes 1,2,3,8,9\n",
    "# input image dimensions\n",
    "img_rows, img_cols = 28, 28\n",
    "#set CNN parameters\n",
    "batch_size = 100\n",
    "num_classes = 10\n",
    "epochs = 5\n",
    "FC_SIZE = 256"
   ]
  },
  {
   "cell_type": "code",
   "execution_count": 7,
   "metadata": {
    "ExecuteTime": {
     "end_time": "2017-10-17T08:28:38.662683",
     "start_time": "2017-10-17T08:28:38.484305"
    },
    "collapsed": false
   },
   "outputs": [],
   "source": [
    "def preprocess_data(X, y):\n",
    "    #create tensor variant of 2D images\n",
    "    if K.image_data_format() == 'channels_first':\n",
    "        X = X.reshape(X.shape[0], 1, img_rows, img_cols)\n",
    "        input_shape = (1, img_rows, img_cols)\n",
    "    else:\n",
    "        X = X.reshape(X.shape[0], img_rows, img_cols, 1)\n",
    "        input_shape = (img_rows, img_cols, 1)\n",
    "\n",
    "    X = X.astype('float32') / 255.\n",
    "\n",
    "    # convert class vectors to binary class matrices\n",
    "    y = keras.utils.to_categorical(y, num_classes)\n",
    "    return X, y, input_shape\n",
    "x_train_12389_labeled, y_train_12389_labeled, input_shape = preprocess_data(x_train_12389_labeled, y_train_12389_labeled)\n",
    "x_test_12389, y_test_12389, _ = preprocess_data(x_test_12389, y_test_12389)\n",
    "\n",
    "x_train_04567_labeled, y_train_04567_labeled, input_shape = preprocess_data(x_train_04567_labeled, y_train_04567_labeled)\n",
    "x_test_04567, y_test_04567, _ = preprocess_data(x_test_04567, y_test_04567)"
   ]
  },
  {
   "cell_type": "code",
   "execution_count": 8,
   "metadata": {
    "ExecuteTime": {
     "end_time": "2017-10-17T08:34:32.978494",
     "start_time": "2017-10-17T08:28:39.499858"
    },
    "collapsed": false,
    "run_control": {
     "frozen": false,
     "read_only": false
    }
   },
   "outputs": [
    {
     "name": "stdout",
     "output_type": "stream",
     "text": [
      "Train on 30000 samples, validate on 5000 samples\n",
      "Epoch 1/5\n",
      "30000/30000 [==============================] - 73s - loss: 0.1549 - acc: 0.9527 - val_loss: 0.0698 - val_acc: 0.9800\n",
      "Epoch 2/5\n",
      "30000/30000 [==============================] - 69s - loss: 0.0671 - acc: 0.9794 - val_loss: 0.0590 - val_acc: 0.9816\n",
      "Epoch 3/5\n",
      "30000/30000 [==============================] - 68s - loss: 0.0541 - acc: 0.9838 - val_loss: 0.0579 - val_acc: 0.9830\n",
      "Epoch 4/5\n",
      "30000/30000 [==============================] - 70s - loss: 0.0468 - acc: 0.9854 - val_loss: 0.0513 - val_acc: 0.9846\n",
      "Epoch 5/5\n",
      "30000/30000 [==============================] - 67s - loss: 0.0403 - acc: 0.9878 - val_loss: 0.0614 - val_acc: 0.9824\n",
      "Test loss: 0.0613797692063\n",
      "Test accuracy: 0.9824\n"
     ]
    }
   ],
   "source": [
    "def train_base_model(model_name):\n",
    "    model = Sequential()\n",
    "    model.add(Conv2D(32, kernel_size=(3, 3),\n",
    "                     activation='relu',\n",
    "                     input_shape=input_shape))\n",
    "    model.add(Conv2D(64, (3, 3), activation='relu'))\n",
    "    model.add(MaxPooling2D(pool_size=(2, 2)))\n",
    "    model.add(Dropout(0.25))\n",
    "    model.add(Flatten())\n",
    "    model.add(Dense(128, activation='relu'))\n",
    "    model.add(Dropout(0.5))\n",
    "    model.add(Dense(num_classes, activation='softmax'))\n",
    "\n",
    "    model.compile(loss=keras.losses.categorical_crossentropy,\n",
    "                  optimizer='rmsprop',\n",
    "                  metrics=['accuracy'])\n",
    "\n",
    "    model.fit(x_train_12389_labeled,y_train_12389_labeled,\n",
    "              batch_size=batch_size,\n",
    "              epochs=epochs,\n",
    "              shuffle=True,\n",
    "              verbose=1,\n",
    "              validation_data=(x_test_12389, y_test_12389))\n",
    "\n",
    "    score = model.evaluate(x_test_12389, y_test_12389, verbose=0)\n",
    "    print('Test loss:', score[0])\n",
    "    print('Test accuracy:', score[1])\n",
    "    model.save(model_name)\n",
    "train_base_model(model_name = 'model_data.h5')"
   ]
  },
  {
   "cell_type": "code",
   "execution_count": 6,
   "metadata": {
    "ExecuteTime": {
     "end_time": "2017-10-12T16:48:13.300808",
     "start_time": "2017-10-12T16:48:12.128800"
    },
    "collapsed": true,
    "run_control": {
     "frozen": false,
     "read_only": false
    }
   },
   "outputs": [],
   "source": [
    "# load saved based model\n",
    "base_model = keras.models.load_model('model_data.h5')"
   ]
  },
  {
   "cell_type": "code",
   "execution_count": 19,
   "metadata": {
    "ExecuteTime": {
     "end_time": "2017-10-12T16:51:31.163056",
     "start_time": "2017-10-12T16:51:31.155024"
    },
    "collapsed": false,
    "run_control": {
     "frozen": false,
     "read_only": false
    }
   },
   "outputs": [
    {
     "name": "stdout",
     "output_type": "stream",
     "text": [
      "_________________________________________________________________\n",
      "Layer (type)                 Output Shape              Param #   \n",
      "=================================================================\n",
      "conv2d_1 (Conv2D)            (None, 26, 26, 32)        320       \n",
      "_________________________________________________________________\n",
      "conv2d_2 (Conv2D)            (None, 24, 24, 64)        18496     \n",
      "_________________________________________________________________\n",
      "max_pooling2d_1 (MaxPooling2 (None, 12, 12, 64)        0         \n",
      "_________________________________________________________________\n",
      "dropout_1 (Dropout)          (None, 12, 12, 64)        0         \n",
      "_________________________________________________________________\n",
      "flatten_1 (Flatten)          (None, 9216)              0         \n",
      "_________________________________________________________________\n",
      "dense_1 (Dense)              (None, 128)               1179776   \n",
      "_________________________________________________________________\n",
      "dropout_2 (Dropout)          (None, 128)               0         \n",
      "_________________________________________________________________\n",
      "dense_2 (Dense)              (None, 10)                1290      \n",
      "=================================================================\n",
      "Total params: 1,199,882\n",
      "Trainable params: 0\n",
      "Non-trainable params: 1,199,882\n",
      "_________________________________________________________________\n"
     ]
    }
   ],
   "source": [
    "base_model.summary()"
   ]
  },
  {
   "cell_type": "code",
   "execution_count": 24,
   "metadata": {
    "ExecuteTime": {
     "end_time": "2017-10-12T16:56:23.251560",
     "start_time": "2017-10-12T16:56:23.191529"
    },
    "collapsed": false,
    "run_control": {
     "frozen": false,
     "read_only": false
    }
   },
   "outputs": [
    {
     "name": "stdout",
     "output_type": "stream",
     "text": [
      "_________________________________________________________________\n",
      "Layer (type)                 Output Shape              Param #   \n",
      "=================================================================\n",
      "conv2d_1_input (InputLayer)  (None, 28, 28, 1)         0         \n",
      "_________________________________________________________________\n",
      "conv2d_1 (Conv2D)            (None, 26, 26, 32)        320       \n",
      "_________________________________________________________________\n",
      "conv2d_2 (Conv2D)            (None, 24, 24, 64)        18496     \n",
      "_________________________________________________________________\n",
      "max_pooling2d_1 (MaxPooling2 (None, 12, 12, 64)        0         \n",
      "_________________________________________________________________\n",
      "dropout_1 (Dropout)          (None, 12, 12, 64)        0         \n",
      "_________________________________________________________________\n",
      "flatten_1 (Flatten)          (None, 9216)              0         \n",
      "_________________________________________________________________\n",
      "dense_new1 (Dense)           (None, 128)               1179776   \n",
      "_________________________________________________________________\n",
      "dropout_new (Dropout)        (None, 128)               0         \n",
      "_________________________________________________________________\n",
      "softmax_new1 (Dense)         (None, 10)                1290      \n",
      "=================================================================\n",
      "Total params: 1,199,882\n",
      "Trainable params: 1,181,066\n",
      "Non-trainable params: 18,816\n",
      "_________________________________________________________________\n"
     ]
    },
    {
     "name": "stderr",
     "output_type": "stream",
     "text": [
      "C:\\Users\\azika\\AppData\\Local\\Continuum\\Anaconda3\\lib\\site-packages\\ipykernel\\__main__.py:6: UserWarning: Update your `Model` call to the Keras 2 API: `Model(outputs=Tensor(\"so..., inputs=Tensor(\"co...)`\n"
     ]
    }
   ],
   "source": [
    "# preparing transfer model\n",
    "for layer in base_model.layers:\n",
    "    layer.trainable = False #turn of all layers for training\n",
    "\n",
    "# adding a dense layer behind flatten_1 layers (i.e., layer[-4])\n",
    "x = Dense(128, activation='relu', name = \"dense_new1\")(base_model.layers[-4].output)  \n",
    "x = Dropout(0.5, name='dropout_new')(x)  \n",
    "predictions = Dense(num_classes, activation='softmax', name='softmax_new1')(x)  # new softmax layer\n",
    "transfer_model = Model(input=base_model.input, output=predictions)\n",
    "transfer_model.summary()"
   ]
  },
  {
   "cell_type": "code",
   "execution_count": 25,
   "metadata": {
    "ExecuteTime": {
     "end_time": "2017-10-12T16:56:33.476760",
     "start_time": "2017-10-12T16:56:26.232768"
    },
    "collapsed": false,
    "run_control": {
     "frozen": false,
     "read_only": false
    }
   },
   "outputs": [
    {
     "name": "stdout",
     "output_type": "stream",
     "text": [
      "Train on 5 samples, validate on 5000 samples\n",
      "Epoch 1/1\n",
      "5/5 [==============================] - 3s - loss: 2.2683 - acc: 0.4000 - val_loss: 1.9272 - val_acc: 0.5080\n",
      "Test loss: 1.92724760113\n",
      "Test accuracy: 0.508\n"
     ]
    }
   ],
   "source": [
    "# training transfer model\n",
    "transfer_model.compile(loss=keras.losses.categorical_crossentropy,\n",
    "              optimizer='rmsprop',\n",
    "              metrics=['accuracy'])\n",
    "\n",
    "transfer_model.fit(x_train_04567_labeled, y_train_04567_labeled,\n",
    "          batch_size=batch_size,\n",
    "          epochs=epochs,\n",
    "          shuffle=True,\n",
    "          verbose=1,\n",
    "          validation_data=(x_test_04567, y_test_04567))\n",
    "\n",
    "score = transfer_model.evaluate(x_test_04567, y_test_04567, verbose=0)\n",
    "print('Test loss:', score[0])\n",
    "print('Test accuracy:', score[1])\n",
    "transfer_model.save('transfer_model.h5')"
   ]
  }
 ],
 "metadata": {
  "anaconda-cloud": {},
  "hide_input": false,
  "kernelspec": {
   "display_name": "Python [conda root]",
   "language": "python",
   "name": "conda-root-py"
  },
  "language_info": {
   "codemirror_mode": {
    "name": "ipython",
    "version": 3
   },
   "file_extension": ".py",
   "mimetype": "text/x-python",
   "name": "python",
   "nbconvert_exporter": "python",
   "pygments_lexer": "ipython3",
   "version": "3.5.2"
  }
 },
 "nbformat": 4,
 "nbformat_minor": 1
}
