{
 "cells": [
  {
   "cell_type": "code",
   "execution_count": 25,
   "metadata": {
    "ExecuteTime": {
     "end_time": "2017-11-02T08:16:13.761250Z",
     "start_time": "2017-11-02T08:16:13.510583Z"
    },
    "code_folding": [],
    "collapsed": false,
    "run_control": {
     "frozen": false,
     "read_only": false
    }
   },
   "outputs": [
    {
     "name": "stdout",
     "output_type": "stream",
     "text": [
      "The autoreload extension is already loaded. To reload it, use:\n",
      "  %reload_ext autoreload\n"
     ]
    }
   ],
   "source": [
    "from classes.data_handler import DataHandler\n",
    "from classes.siamese_nn import SiameseNN\n",
    "from classes.nn_network import NNNetwork\n",
    "from classes.base_model import BaseModel\n",
    "from classes.transfer_learning import TransferLearning\n",
    "%load_ext autoreload\n",
    "%autoreload 2"
   ]
  },
  {
   "cell_type": "code",
   "execution_count": 26,
   "metadata": {
    "ExecuteTime": {
     "end_time": "2017-11-02T08:16:18.262755Z",
     "start_time": "2017-11-02T08:16:16.673529Z"
    },
    "collapsed": false,
    "run_control": {
     "frozen": false,
     "read_only": false
    }
   },
   "outputs": [],
   "source": [
    "image_gen_params = {\n",
    "'rotation_range' : 30,\n",
    "'width_shift_range' : 0.3,\n",
    "'height_shift_range' : 0.3,\n",
    "'shear_range' : 0.3,\n",
    "'horizontal_flip' : True,\n",
    "'vertical_flip' : True,\n",
    "'fill_mode': 'nearest',\n",
    "'zoom_range' : 0.2\n",
    " }\n",
    "\n",
    "\n",
    "dh = DataHandler()\n",
    "dh.load_data()\n",
    "dh.augment_data(use_train = True, c_04567 = True, N = 1000, visualize = False, **image_gen_params)\n",
    "#dh.augment_data(use_train = True, c_04567 = False, N = 2, visualize = False, **image_gen_params)"
   ]
  },
  {
   "cell_type": "markdown",
   "metadata": {
    "run_control": {
     "frozen": false,
     "read_only": false
    }
   },
   "source": [
    "# Siamese NN"
   ]
  },
  {
   "cell_type": "code",
   "execution_count": 40,
   "metadata": {
    "ExecuteTime": {
     "end_time": "2017-11-01T12:41:49.294733Z",
     "start_time": "2017-11-01T12:41:46.749878Z"
    },
    "collapsed": false,
    "run_control": {
     "frozen": false,
     "read_only": false
    },
    "scrolled": false
   },
   "outputs": [
    {
     "name": "stdout",
     "output_type": "stream",
     "text": [
      "Number of training pairs is 6993 \n",
      "Number of val pairs is 2997 \n"
     ]
    },
    {
     "name": "stderr",
     "output_type": "stream",
     "text": [
      "D:\\Google Drive\\TUe\\PDEng\\Modules\\Data Mining\\CodeExampleAndFashionDataset\\classes\\siamese_nn.py:95: UserWarning: Update your `Model` call to the Keras 2 API: `Model(inputs=[<tf.Tenso..., outputs=Tensor(\"de...)`\n",
      "  self.model = Model(input=[input_a, input_b], output=flattened_weighted_distance)\n"
     ]
    }
   ],
   "source": [
    "sh = SiameseNN(dh)\n",
    "sh.create_pairs()\n",
    "sh.define_model_structure()\n",
    "sh.train_model(nb_epoch = 10, load_model = True)"
   ]
  },
  {
   "cell_type": "code",
   "execution_count": 36,
   "metadata": {
    "ExecuteTime": {
     "end_time": "2017-11-01T12:39:40.902819Z",
     "start_time": "2017-11-01T12:39:37.811584Z"
    },
    "collapsed": false,
    "run_control": {
     "frozen": false,
     "read_only": false
    },
    "scrolled": true
   },
   "outputs": [
    {
     "name": "stdout",
     "output_type": "stream",
     "text": [
      "* Accuracy of classifying the val set: 97.56%\n"
     ]
    }
   ],
   "source": [
    "sh.compute_verification_accuracy()"
   ]
  },
  {
   "cell_type": "code",
   "execution_count": 103,
   "metadata": {
    "ExecuteTime": {
     "end_time": "2017-11-01T14:38:32.200447Z",
     "start_time": "2017-11-01T14:38:09.920685Z"
    },
    "collapsed": false,
    "run_control": {
     "frozen": false,
     "read_only": false
    }
   },
   "outputs": [
    {
     "name": "stdout",
     "output_type": "stream",
     "text": [
      "(5000, 5)\n",
      "*Accuracy of classifying the test set at level 1: 39.08%\n",
      "*Accuracy of classifying the test set at level 2: 52.16%\n",
      "*Accuracy of classifying the test set at level 3: 63.52%\n",
      "*Accuracy of classifying the test set at level 4: 84.42%\n",
      "*Accuracy of classifying the test set at level 5: 100.00%\n"
     ]
    }
   ],
   "source": [
    "accs_at_level = sh.compute_one_shot_accuracy(max_acc_level = 5)\n",
    "sh.plot_confusion_matrix(normalize=True)"
   ]
  },
  {
   "cell_type": "markdown",
   "metadata": {
    "run_control": {
     "frozen": false,
     "read_only": false
    }
   },
   "source": [
    "# Base model trained on 04567"
   ]
  },
  {
   "cell_type": "code",
   "execution_count": 27,
   "metadata": {
    "ExecuteTime": {
     "end_time": "2017-11-02T08:16:21.117651Z",
     "start_time": "2017-11-02T08:16:20.909068Z"
    },
    "collapsed": true,
    "run_control": {
     "frozen": false,
     "read_only": false
    }
   },
   "outputs": [],
   "source": [
    "bm_04567 = BaseModel(dh, c_04567 = True)"
   ]
  },
  {
   "cell_type": "code",
   "execution_count": 167,
   "metadata": {
    "ExecuteTime": {
     "end_time": "2017-11-01T20:30:04.620518Z",
     "start_time": "2017-11-01T20:29:59.375374Z"
    },
    "collapsed": false,
    "run_control": {
     "frozen": false,
     "read_only": false
    }
   },
   "outputs": [
    {
     "name": "stdout",
     "output_type": "stream",
     "text": [
      "*Accuracy of classifying the test set at level 1: 57.64%\n",
      "*Accuracy of classifying the test set at level 2: 78.22%\n",
      "*Accuracy of classifying the test set at level 3: 87.90%\n"
     ]
    }
   ],
   "source": [
    "bm_04567.compute_accuracy(max_acc_level = 3)"
   ]
  },
  {
   "cell_type": "code",
   "execution_count": 168,
   "metadata": {
    "ExecuteTime": {
     "end_time": "2017-11-01T20:30:05.080741Z",
     "start_time": "2017-11-01T20:30:04.621521Z"
    },
    "collapsed": false,
    "run_control": {
     "frozen": false,
     "read_only": false
    },
    "scrolled": true
   },
   "outputs": [
    {
     "name": "stdout",
     "output_type": "stream",
     "text": [
      "Normalized confusion matrix\n",
      "[[ 0.73  0.14  0.01  0.1   0.01]\n",
      " [ 0.47  0.41  0.    0.12  0.  ]\n",
      " [ 0.01  0.    0.64  0.12  0.23]\n",
      " [ 0.58  0.18  0.    0.24  0.  ]\n",
      " [ 0.01  0.    0.12  0.01  0.86]]\n"
     ]
    },
    {
     "data": {
      "image/png": "[encoded data removed]",
      "text/plain": [
       "<matplotlib.figure.Figure at 0x58557147f0>"
      ]
     },
     "metadata": {},
     "output_type": "display_data"
    }
   ],
   "source": [
    "bm_04567.plot_confusion_matrix(normalize = True)"
   ]
  },
  {
   "cell_type": "markdown",
   "metadata": {
    "run_control": {
     "frozen": false,
     "read_only": false
    }
   },
   "source": [
    "### Hyperparam optimization"
   ]
  },
  {
   "cell_type": "code",
   "execution_count": 32,
   "metadata": {
    "ExecuteTime": {
     "end_time": "2017-11-02T08:21:29.597038Z",
     "start_time": "2017-11-02T08:20:22.550859Z"
    },
    "collapsed": false,
    "run_control": {
     "frozen": false,
     "read_only": false
    }
   },
   "outputs": [
    {
     "name": "stdout",
     "output_type": "stream",
     "text": [
      "Hyper param uning\n",
      "Tuning\n",
      "Epoch 1/1\n",
      "5000/5000 [==============================] - 10s - loss: 0.8509 - acc: 0.6316    \n",
      "Test accuracy: 0.5552\n",
      "Tuning\n",
      "Epoch 1/1\n",
      "5000/5000 [==============================] - 9s - loss: 0.9598 - acc: 0.6062     \n",
      "Test accuracy: 0.5084\n",
      "Tuning\n",
      "Epoch 1/1\n",
      "5000/5000 [==============================] - 9s - loss: 0.9608 - acc: 0.5910     \n",
      "Test accuracy: 0.4018\n",
      "Tuning\n",
      "Epoch 1/1\n",
      "5000/5000 [==============================] - 9s - loss: 0.9838 - acc: 0.5758     \n",
      "Test accuracy: 0.552\n",
      "Tuning\n",
      "Epoch 1/1\n",
      "5000/5000 [==============================] - 9s - loss: 0.9091 - acc: 0.6086     \n",
      "Test accuracy: 0.4928\n"
     ]
    },
    {
     "data": {
      "text/plain": [
       "{'dropout1': 0.4505308370312296}"
      ]
     },
     "execution_count": 32,
     "metadata": {},
     "output_type": "execute_result"
    }
   ],
   "source": [
    "bm_04567.hyper_param_tuning()"
   ]
  },
  {
   "cell_type": "markdown",
   "metadata": {
    "run_control": {
     "frozen": false,
     "read_only": false
    }
   },
   "source": [
    "Next. \n",
    "- Base model vs transfer learning. \n",
    "- model ensemble\n"
   ]
  },
  {
   "cell_type": "markdown",
   "metadata": {
    "run_control": {
     "frozen": false,
     "read_only": false
    }
   },
   "source": [
    "# Transfer learning"
   ]
  },
  {
   "cell_type": "markdown",
   "metadata": {
    "run_control": {
     "frozen": false,
     "read_only": false
    }
   },
   "source": [
    "## Training base model on 12389"
   ]
  },
  {
   "cell_type": "code",
   "execution_count": 178,
   "metadata": {
    "ExecuteTime": {
     "end_time": "2017-11-01T21:04:41.450998Z",
     "start_time": "2017-11-01T20:50:31.826773Z"
    },
    "collapsed": false,
    "run_control": {
     "frozen": false,
     "read_only": false
    }
   },
   "outputs": [
    {
     "name": "stdout",
     "output_type": "stream",
     "text": [
      "Epoch 1/5\n",
      "60000/60000 [==============================] - 172s - loss: 0.7730 - acc: 0.7051   \n",
      "Epoch 2/5\n",
      "60000/60000 [==============================] - 163s - loss: 0.4554 - acc: 0.8417   \n",
      "Epoch 3/5\n",
      "60000/60000 [==============================] - 163s - loss: 0.3738 - acc: 0.8724   \n",
      "Epoch 4/5\n",
      "60000/60000 [==============================] - 173s - loss: 0.3265 - acc: 0.8893   \n",
      "Epoch 5/5\n",
      "60000/60000 [==============================] - 175s - loss: 0.2980 - acc: 0.8989   \n"
     ]
    }
   ],
   "source": [
    "bm_12389 = BaseModel(dh, c_04567 = False)\n",
    "bm_12389.define_model_structure()\n",
    "bm_12389.train_model(nb_epoch = 5, model_name = 'base_12389.h5')"
   ]
  },
  {
   "cell_type": "code",
   "execution_count": 180,
   "metadata": {
    "ExecuteTime": {
     "end_time": "2017-11-01T21:05:50.666128Z",
     "start_time": "2017-11-01T21:05:46.206906Z"
    },
    "collapsed": false,
    "run_control": {
     "frozen": false,
     "read_only": false
    }
   },
   "outputs": [
    {
     "name": "stdout",
     "output_type": "stream",
     "text": [
      "*Accuracy of classifying the test set at level 1: 94.88%\n",
      "*Accuracy of classifying the test set at level 2: 99.16%\n",
      "*Accuracy of classifying the test set at level 3: 99.72%\n",
      "Normalized confusion matrix\n",
      "[[ 0.97  0.    0.02  0.    0.  ]\n",
      " [ 0.    0.97  0.02  0.01  0.  ]\n",
      " [ 0.05  0.08  0.86  0.01  0.  ]\n",
      " [ 0.    0.02  0.01  0.97  0.  ]\n",
      " [ 0.    0.    0.    0.03  0.96]]\n"
     ]
    },
    {
     "data": {
      "image/png": "[encoded data removed]",
      "text/plain": [
       "<matplotlib.figure.Figure at 0x58644bc4e0>"
      ]
     },
     "metadata": {},
     "output_type": "display_data"
    }
   ],
   "source": [
    "bm_12389.compute_accuracy(max_acc_level = 3)\n",
    "bm_12389.plot_confusion_matrix(normalize = True)"
   ]
  },
  {
   "cell_type": "markdown",
   "metadata": {
    "run_control": {
     "frozen": false,
     "read_only": false
    }
   },
   "source": [
    "## Applying transfer learning on 04567"
   ]
  },
  {
   "cell_type": "code",
   "execution_count": 188,
   "metadata": {
    "ExecuteTime": {
     "end_time": "2017-11-01T21:15:26.316553Z",
     "start_time": "2017-11-01T21:14:58.510712Z"
    },
    "collapsed": false,
    "run_control": {
     "frozen": false,
     "read_only": false
    },
    "scrolled": true
   },
   "outputs": [
    {
     "name": "stderr",
     "output_type": "stream",
     "text": [
      "D:\\Google Drive\\TUe\\PDEng\\Modules\\Data Mining\\CodeExampleAndFashionDataset\\classes\\transfer_learning.py:33: UserWarning: Update your `Model` call to the Keras 2 API: `Model(inputs=Tensor(\"co..., outputs=Tensor(\"so...)`\n",
      "  self.model = Model(input=base_model.input, output=predictions)\n"
     ]
    },
    {
     "name": "stdout",
     "output_type": "stream",
     "text": [
      "Training on 5000 isntances of data.\n",
      "Epoch 1/5\n",
      "5000/5000 [==============================] - 5s - loss: 0.2318 - acc: 0.9372     \n",
      "Epoch 2/5\n",
      "5000/5000 [==============================] - 5s - loss: 0.0286 - acc: 0.9962     \n",
      "Epoch 3/5\n",
      "5000/5000 [==============================] - 5s - loss: 0.0130 - acc: 0.9970     \n",
      "Epoch 4/5\n",
      "5000/5000 [==============================] - 5s - loss: 0.0068 - acc: 0.9988     \n",
      "Epoch 5/5\n",
      "5000/5000 [==============================] - 4s - loss: 0.0041 - acc: 0.9992     \n"
     ]
    }
   ],
   "source": [
    "tl = TransferLearning(dh, c_04567 = True)\n",
    "tl.define_model_structure(bm_12389.model)\n",
    "tl.train_model(nb_epoch = 5)"
   ]
  },
  {
   "cell_type": "code",
   "execution_count": 189,
   "metadata": {
    "ExecuteTime": {
     "end_time": "2017-11-01T21:16:22.314838Z",
     "start_time": "2017-11-01T21:16:17.289828Z"
    },
    "collapsed": false,
    "run_control": {
     "frozen": false,
     "read_only": false
    }
   },
   "outputs": [
    {
     "name": "stdout",
     "output_type": "stream",
     "text": [
      "*Accuracy of classifying the test set at level 1: 58.58%\n",
      "*Accuracy of classifying the test set at level 2: 80.78%\n",
      "*Accuracy of classifying the test set at level 3: 90.66%\n",
      "Normalized confusion matrix\n",
      "[[ 0.75  0.11  0.01  0.13  0.01]\n",
      " [ 0.59  0.2   0.    0.2   0.  ]\n",
      " [ 0.    0.    0.73  0.04  0.23]\n",
      " [ 0.57  0.11  0.    0.32  0.  ]\n",
      " [ 0.    0.    0.05  0.01  0.93]]\n"
     ]
    },
    {
     "data": {
      "image/png": "[encoded data removed]",
      "text/plain": [
       "<matplotlib.figure.Figure at 0x583dfc0da0>"
      ]
     },
     "metadata": {},
     "output_type": "display_data"
    }
   ],
   "source": [
    "tl.compute_accuracy(max_acc_level = 3)\n",
    "tl.plot_confusion_matrix(normalize = True)"
   ]
  },
  {
   "cell_type": "code",
   "execution_count": null,
   "metadata": {
    "collapsed": true,
    "run_control": {
     "frozen": false,
     "read_only": false
    }
   },
   "outputs": [],
   "source": [
    ""
   ]
  }
 ],
 "metadata": {
  "anaconda-cloud": {},
  "hide_input": false,
  "kernelspec": {
   "display_name": "Python [conda root]",
   "language": "python",
   "name": "conda-root-py"
  },
  "language_info": {
   "codemirror_mode": {
    "name": "ipython",
    "version": 3.0
   },
   "file_extension": ".py",
   "mimetype": "text/x-python",
   "name": "python",
   "nbconvert_exporter": "python",
   "pygments_lexer": "ipython3",
   "version": "3.5.2"
  }
 },
 "nbformat": 4,
 "nbformat_minor": 0
}