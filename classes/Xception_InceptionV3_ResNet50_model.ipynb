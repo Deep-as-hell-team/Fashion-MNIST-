{
 "cells": [
  {
   "cell_type": "markdown",
   "metadata": {},
   "source": [
    "# Xception, InceptionV3, and ResNet50 model on Fashion-MNIST data\n",
    "### Author: @Zihan993\n",
    "### Date: 11th Aug 2017"
   ]
  },
  {
   "cell_type": "code",
   "execution_count": 15,
   "metadata": {
    "collapsed": false
   },
   "outputs": [],
   "source": [
    "################## Import Library ###################################################################\n",
    "import numpy as np\n",
    "import time\n",
    "import keras\n",
    "from keras.models import Sequential, Model\n",
    "from keras.layers import Input, Dense, Dropout, Flatten, Activation\n",
    "from keras.layers import Conv2D, MaxPooling2D, GlobalAveragePooling2D\n",
    "from keras import backend as K\n",
    "from keras.preprocessing.image import ImageDataGenerator\n",
    "from sklearn.metrics import classification_report, confusion_matrix\n",
    "import matplotlib.pyplot as plt\n",
    "import PIL\n",
    "from PIL import Image\n",
    "import itertools\n",
    "# from keras.optimizers import Adam\n"
   ]
  },
  {
   "cell_type": "markdown",
   "metadata": {},
   "source": [
    "## 1. Define Hyper-parameters"
   ]
  },
  {
   "cell_type": "code",
   "execution_count": 2,
   "metadata": {
    "collapsed": true
   },
   "outputs": [],
   "source": [
    "################## Hyper-parameters ###################################################################\n",
    "## Example of trainining a CNN on classes 1,2,3,8,9\n",
    "# input image dimensions\n",
    "img_rows, img_cols = 28, 28\n",
    "#set CNN parameters\n",
    "batch_size = 64\n",
    "num_classes = 10\n",
    "epochs = 50\n",
    "FC_SIZE = 256\n",
    "rotation_range = 30\n",
    "width_shift_range = 0.2\n",
    "height_shift_range = 0.2\n",
    "new_img_rows, new_img_cols = 224, 224"
   ]
  },
  {
   "cell_type": "markdown",
   "metadata": {},
   "source": [
    "## 2. Load Fashion-MNIST data"
   ]
  },
  {
   "cell_type": "code",
   "execution_count": 3,
   "metadata": {
    "collapsed": false
   },
   "outputs": [],
   "source": [
    "################## Load data ###################################################################\n",
    "# read training and test sets\n",
    "data=np.load(\"C:/Users/20171209/Documents/Data Mining Module/CodeExampleAndFashionDataset/FashionData/FashionPDEngDM.npz\")\n",
    "\n",
    "##Labeled training set for classes 1,2,3,8,9 (30000 samples)\n",
    "x_train_12389_labeled=data[\"x_train_12389_labeled\"]\n",
    "y_train_12389_labeled=data[\"y_train_12389_labeled\"]\n",
    "\n",
    "##Labeled training set for classes 0,4,5,6,7 (just 5 samples)\n",
    "x_train_04567_labeled=data[\"x_train_04567_labeled\"]\n",
    "y_train_04567_labeled=data[\"y_train_04567_labeled\"]\n",
    "\n",
    "##Unlabeled training set for classes 0,4,5,6,7 (29992 samples)\n",
    "x_train_04567_unlabeled=data[\"x_train_04567_unlabeled\"]\n",
    "\n",
    "##Labeled test set for classes 1,2,3,8,9\n",
    "x_test_12389=data[\"x_test_12389\"]\n",
    "y_test_12389=data[\"y_test_12389\"]\n",
    "\n",
    "##Labeled test set for classes 0,4,5,6,7 (this is where we are interested to obtain the highest accuracy possible - project goal)\n",
    "x_test_04567=data[\"x_test_04567\"]\n",
    "y_test_04567=data[\"y_test_04567\"]\n"
   ]
  },
  {
   "cell_type": "markdown",
   "metadata": {},
   "source": [
    "## 3. Pre-processing (resize + convert to RGB)"
   ]
  },
  {
   "cell_type": "code",
   "execution_count": 4,
   "metadata": {
    "collapsed": false
   },
   "outputs": [],
   "source": [
    "################## Pre-processing ###################################################################\n",
    "def resize_RGB (img, output_shape = (224, 224)):\n",
    "\n",
    "    img = img.reshape(28,28)\n",
    "    img = Image.fromarray(img)\n",
    "    img = img.resize(output_shape, PIL.Image.ANTIALIAS)\n",
    "    #img = np.array(img)\n",
    "    img = np.stack((img,)*3, axis=2)\n",
    "    \n",
    "    return img\n",
    "\n",
    "x_train_12389_labeled = [resize_RGB(img) for img in x_train_12389_labeled]\n",
    "x_train_12389_labeled = np.asarray(x_train_12389_labeled)\n",
    "                        \n",
    "x_test_12389 = [resize_RGB(img) for img in x_test_12389]\n",
    "x_test_12389 = np.asarray(x_test_12389)\n",
    "\n",
    "x_train_04567_labeled = [resize_RGB(img) for img in x_train_04567_labeled]\n",
    "x_train_04567_labeled = np.asarray(x_train_04567_labeled)\n",
    "\n",
    "x_test_04567 = [resize_RGB(img) for img in x_test_04567]\n",
    "x_test_04567 = np.asarray(x_test_04567)\n",
    "\n",
    "#x_train_12389_labeled = x_train_12389_labeled.astype('float32') / 255\n",
    "y_train_12389_labeled = keras.utils.to_categorical(y_train_12389_labeled, num_classes)\n",
    "\n",
    "#x_test_12389 =  x_test_12389.astype('float32') / 255\n",
    "y_test_12389 = keras.utils.to_categorical(y_test_12389, num_classes)\n",
    "\n",
    "#x_train_04567_labeled = x_train_04567_labeled.astype('float32') / 255\n",
    "y_train_04567_labeled = keras.utils.to_categorical(y_train_04567_labeled, num_classes)\n",
    "\n",
    "#x_test_04567 = x_test_04567.astype('float32') / 255\n",
    "y_test_04567 = keras.utils.to_categorical(y_test_04567, num_classes)"
   ]
  },
  {
   "cell_type": "code",
   "execution_count": 5,
   "metadata": {
    "collapsed": false,
    "scrolled": true
   },
   "outputs": [
    {
     "name": "stdout",
     "output_type": "stream",
     "text": [
      "(224, 224, 3)\n"
     ]
    },
    {
     "data": {
      "image/png": "[encoded data removed]",
      "text/plain": [
       "<PIL.Image.Image image mode=RGB size=224x224 at 0x20985868828>"
      ]
     },
     "execution_count": 5,
     "metadata": {},
     "output_type": "execute_result"
    }
   ],
   "source": [
    "print(x_train_12389_labeled[0].shape)\n",
    "Image.fromarray(x_train_12389_labeled[0], 'RGB')"
   ]
  },
  {
   "cell_type": "markdown",
   "metadata": {},
   "source": [
    "## 4. Load Model (Xception, InceptionV3, or ResNet50)"
   ]
  },
  {
   "cell_type": "code",
   "execution_count": 8,
   "metadata": {
    "collapsed": false
   },
   "outputs": [],
   "source": [
    "################## VGG model ###################################################################\n",
    "#model = keras.applications.xception.Xception(include_top=True, weights='imagenet', input_tensor=None, input_shape=(224, 224, 3), pooling=None, classes=1000)\n",
    "model = keras.applications.inception_v3.InceptionV3(include_top=True, weights='imagenet', input_tensor=None, input_shape=(224, 224, 3), pooling=None, classes=1000)\n",
    "#model = keras.applications.resnet50.ResNet50(include_top=True, weights='imagenet', input_tensor=None, input_shape=(224, 224, 3), pooling=None, classes=1000)\n",
    "\n",
    "model.compile(loss=keras.losses.categorical_crossentropy,\n",
    "              optimizer='adam',\n",
    "              metrics=['accuracy'])"
   ]
  },
  {
   "cell_type": "markdown",
   "metadata": {},
   "source": [
    "## 5. Transfer Learning"
   ]
  },
  {
   "cell_type": "code",
   "execution_count": 9,
   "metadata": {
    "collapsed": false
   },
   "outputs": [
    {
     "name": "stderr",
     "output_type": "stream",
     "text": [
      "C:\\Users\\20171209\\AppData\\Local\\Continuum\\Anaconda3\\lib\\site-packages\\ipykernel\\__main__.py:15: UserWarning: Update your `Model` call to the Keras 2 API: `Model(inputs=Tensor(\"in..., outputs=Tensor(\"so...)`\n"
     ]
    }
   ],
   "source": [
    "################## Transfer learning ###################################################################\n",
    "#inputs = Input(shape = input_shape)\n",
    "#y = model(inputs)\n",
    "model.layers.pop()\n",
    "\n",
    "for layer in model.layers:\n",
    "    layer.trainable = False #turn off all layers for training\n",
    "\n",
    "# model.layers[1].trainable = True\n",
    "\n",
    "# adding a dense layer behind flatten_1 layers (i.e., layer[-4])\n",
    "#x = Dense(128, activation='relu', name = \"dense_new1\")(model.layers[-4].output)\n",
    "#x = Dropout(0.5, name='dropout_new')(x)\n",
    "predictions = Dense(num_classes, activation='softmax', name='softmax_new1')(model.layers[-1].output)  # new softmax layer\n",
    "transfer_model = Model(input=model.input, output=predictions)\n",
    "#transfer_model.summary()\n",
    "\n",
    "transfer_model.compile(loss=keras.losses.categorical_crossentropy,\n",
    "              optimizer='adam',\n",
    "              metrics=['accuracy'])"
   ]
  },
  {
   "cell_type": "markdown",
   "metadata": {},
   "source": [
    "## 6. Data Augmentation"
   ]
  },
  {
   "cell_type": "code",
   "execution_count": 10,
   "metadata": {
    "collapsed": false
   },
   "outputs": [
    {
     "data": {
      "text/plain": [
       "194.4833418271605"
      ]
     },
     "execution_count": 10,
     "metadata": {},
     "output_type": "execute_result"
    }
   ],
   "source": [
    "################## Data augmentation ###################################################################\n",
    "datagen = ImageDataGenerator(\n",
    "    rotation_range = rotation_range,\n",
    "    width_shift_range = width_shift_range,\n",
    "    height_shift_range = height_shift_range)\n",
    "datagen.fit(x_train_04567_labeled)\n",
    "\n",
    "train_generator = datagen.flow(x_train_04567_labeled, y_train_04567_labeled, batch_size = 64, save_to_dir='C:/Users/20171209/Documents/Data Mining Module/results/augmentation')\n",
    "\n",
    "tic = time.clock()\n",
    "transfer_model.fit_generator(train_generator,\n",
    "                    steps_per_epoch= 5,\n",
    "                    epochs=epochs,\n",
    "                    shuffle = True,\n",
    "                    verbose = 0)\n",
    "toc = time.clock()\n",
    "toc-tic"
   ]
  },
  {
   "cell_type": "markdown",
   "metadata": {},
   "source": [
    "## 7. Model Evaluation"
   ]
  },
  {
   "cell_type": "code",
   "execution_count": 11,
   "metadata": {
    "collapsed": false
   },
   "outputs": [
    {
     "name": "stdout",
     "output_type": "stream",
     "text": [
      "Test loss: 1.15180075569\n",
      "Test accuracy: 0.5526\n"
     ]
    },
    {
     "data": {
      "text/plain": [
       "760.379454419753"
      ]
     },
     "execution_count": 11,
     "metadata": {},
     "output_type": "execute_result"
    }
   ],
   "source": [
    "tic = time.clock()\n",
    "\n",
    "score = transfer_model.evaluate(x_test_04567, y_test_04567, verbose=0)\n",
    "print('Test loss:', score[0])\n",
    "print('Test accuracy:', score[1])\n",
    "\n",
    "toc = time.clock()\n",
    "toc-tic"
   ]
  },
  {
   "cell_type": "markdown",
   "metadata": {},
   "source": [
    "## 8. Visualize the Confusion Matrix"
   ]
  },
  {
   "cell_type": "code",
   "execution_count": 12,
   "metadata": {
    "collapsed": true
   },
   "outputs": [],
   "source": [
    "np.set_printoptions(precision=2)\n",
    "def plot_confusion_matrix(cm, classes,\n",
    "                          normalize=False,\n",
    "                          title='Confusion matrix',\n",
    "                          cmap=plt.cm.Blues):\n",
    "    \"\"\"\n",
    "    This function prints and plots the confusion matrix.\n",
    "    Normalization can be applied by setting `normalize=True`.\n",
    "    \"\"\"\n",
    "    if normalize:\n",
    "        cm = cm.astype('float') / cm.sum(axis=1)[:, np.newaxis]\n",
    "        print(\"Normalized confusion matrix\")\n",
    "       \n",
    "    else:\n",
    "        print('Confusion matrix, without normalization')\n",
    "\n",
    "    print(cm)\n",
    "\n",
    "    plt.imshow(cm, interpolation='nearest', cmap=cmap)\n",
    "    plt.title(title)\n",
    "    plt.colorbar()\n",
    "    tick_marks = np.arange(len(classes))\n",
    "    plt.xticks(tick_marks, classes, rotation=45)\n",
    "    plt.yticks(tick_marks, classes)\n",
    "\n",
    "    fmt = '.2f' if normalize else 'd'\n",
    "    thresh = cm.max() / 2.\n",
    "    for i, j in itertools.product(range(cm.shape[0]), range(cm.shape[1])):\n",
    "        plt.text(j, i, format(cm[i, j], fmt),\n",
    "                 horizontalalignment=\"center\",\n",
    "                 color=\"white\" if cm[i, j] > thresh else \"black\")\n",
    "\n",
    "    plt.tight_layout()\n",
    "    plt.ylabel('True label')\n",
    "    plt.xlabel('Predicted label')"
   ]
  },
  {
   "cell_type": "code",
   "execution_count": null,
   "metadata": {
    "collapsed": true
   },
   "outputs": [],
   "source": [
    "y_predict = transfer_model.predict(x_test_04567)\n",
    "y_predict = np.argmax(y_predict, axis = 1)\n",
    "#y_predict = transfer_model.predict_classes(x_test_04567)\n",
    "target_names = ['T-shirt/Top', 'Coat', 'Sandal', 'Shirt', 'Sneaker']\n",
    "print(classification_report(np.argmax(y_test_04567, axis = 1), y_predict, target_names = target_names))\n",
    "cm = confusion_matrix(np.argmax(y_test_04567, axis = 1), y_predict)\n",
    "\n",
    "plt.figure()\n",
    "plot_confusion_matrix(cm, classes=target_names, normalize=True,\n",
    "                      title='Normalized confusion matrix')\n",
    "\n",
    "plt.show()"
   ]
  },
  {
   "cell_type": "markdown",
   "metadata": {},
   "source": [
    "## 9. Accuracy on the testing set:\n",
    "\n",
    "### Xception: 63%\n",
    "\n",
    "### InceptionV3: 55%\n",
    "\n",
    "### ResNet50:  58%\n"
   ]
  },
  {
   "cell_type": "code",
   "execution_count": null,
   "metadata": {
    "collapsed": true
   },
   "outputs": [],
   "source": []
  }
 ],
 "metadata": {
  "kernelspec": {
   "display_name": "Python 3",
   "language": "python",
   "name": "python3"
  },
  "language_info": {
   "codemirror_mode": {
    "name": "ipython",
    "version": 3
   },
   "file_extension": ".py",
   "mimetype": "text/x-python",
   "name": "python",
   "nbconvert_exporter": "python",
   "pygments_lexer": "ipython3",
   "version": "3.6.0"
  }
 },
 "nbformat": 4,
 "nbformat_minor": 2
}
