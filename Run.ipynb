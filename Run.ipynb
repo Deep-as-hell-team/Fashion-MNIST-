{
 "cells": [
  {
   "cell_type": "code",
   "execution_count": 20,
   "metadata": {
    "ExecuteTime": {
     "end_time": "2017-11-02T16:04:55.802279Z",
     "start_time": "2017-11-02T16:04:55.553598Z"
    },
    "code_folding": [],
    "collapsed": false,
    "run_control": {
     "frozen": false,
     "read_only": false
    }
   },
   "outputs": [
    {
     "name": "stdout",
     "output_type": "stream",
     "text": [
      "The autoreload extension is already loaded. To reload it, use:\n",
      "  %reload_ext autoreload\n"
     ]
    }
   ],
   "source": [
    "from classes.data_handler import DataHandler\n",
    "from classes.siamese_nn import SiameseNN\n",
    "from classes.nn_network import NNNetwork\n",
    "from classes.base_model import BaseModel\n",
    "from classes.transfer_learning import TransferLearning\n",
    "from keras.optimizers import Adam\n",
    "\n",
    "%load_ext autoreload\n",
    "%autoreload 2"
   ]
  },
  {
   "cell_type": "markdown",
   "metadata": {},
   "source": [
    "# Data Loading"
   ]
  },
  {
   "cell_type": "code",
   "execution_count": 2,
   "metadata": {
    "ExecuteTime": {
     "end_time": "2017-11-02T15:31:57.303531Z",
     "start_time": "2017-11-02T15:31:55.997060Z"
    },
    "collapsed": false,
    "run_control": {
     "frozen": false,
     "read_only": false
    }
   },
   "outputs": [],
   "source": [
    "image_gen_params = {\n",
    "'rotation_range' : 30,\n",
    "'width_shift_range' : 0.3,\n",
    "'height_shift_range' : 0.3,\n",
    "'shear_range' : 0.3,\n",
    "'horizontal_flip' : True,\n",
    "'vertical_flip' : True,\n",
    "'fill_mode': 'nearest',\n",
    "'zoom_range' : 0.2\n",
    " }\n",
    "\n",
    "\n",
    "dh = DataHandler()\n",
    "dh.load_data()\n",
    "dh.augment_data(use_train = True, c_04567 = True, N = 100, visualize = False, **image_gen_params)\n",
    "#dh.augment_data(use_train = True, c_04567 = False, N = 2, visualize = False, **image_gen_params)"
   ]
  },
  {
   "cell_type": "markdown",
   "metadata": {
    "run_control": {
     "frozen": false,
     "read_only": false
    }
   },
   "source": [
    "# Base model trained on 04567"
   ]
  },
  {
   "cell_type": "code",
   "execution_count": 3,
   "metadata": {
    "ExecuteTime": {
     "end_time": "2017-11-02T15:32:00.238302Z",
     "start_time": "2017-11-02T15:32:00.027711Z"
    },
    "collapsed": false,
    "run_control": {
     "frozen": false,
     "read_only": false
    }
   },
   "outputs": [
    {
     "name": "stdout",
     "output_type": "stream",
     "text": [
      "0\n"
     ]
    }
   ],
   "source": [
    "bm_04567 = BaseModel(dh, c_04567 = True)"
   ]
  },
  {
   "cell_type": "code",
   "execution_count": 4,
   "metadata": {
    "ExecuteTime": {
     "end_time": "2017-11-02T15:35:21.316446Z",
     "start_time": "2017-11-02T15:32:13.139358Z"
    },
    "collapsed": false
   },
   "outputs": [
    {
     "name": "stdout",
     "output_type": "stream",
     "text": [
      "Test accuracy of model 0/5 is 49.46%:\n",
      "Test accuracy of model 1/5 is 51.34%:\n",
      "Test accuracy of model 2/5 is 59.00%:\n",
      "Test accuracy of model 3/5 is 57.18%:\n",
      "Test accuracy of model 4/5 is 59.06%:\n"
     ]
    },
    {
     "data": {
      "text/plain": [
       "({'dropout0': 0.26483877802197003,\n",
       "  'dropout1': 0.36053969281774373,\n",
       "  'fc_size0': 1,\n",
       "  'filter_size0': 2,\n",
       "  'filter_size1': 2,\n",
       "  'kernel_size0': 0,\n",
       "  'kernel_size1': 1,\n",
       "  'num_layers': 0},\n",
       " 0.59060000000000001,\n",
       " <hyperopt.base.Trials at 0x3e14a50f98>)"
      ]
     },
     "execution_count": 4,
     "metadata": {},
     "output_type": "execute_result"
    }
   ],
   "source": [
    "# hyper param tuning\n",
    "best, best_score, trials = bm_04567.tune_hyper_params(max_evals = 5)\n",
    "best, best_score, trials"
   ]
  },
  {
   "cell_type": "code",
   "execution_count": 5,
   "metadata": {
    "ExecuteTime": {
     "end_time": "2017-11-02T15:35:57.776991Z",
     "start_time": "2017-11-02T15:35:27.154609Z"
    },
    "collapsed": false
   },
   "outputs": [
    {
     "name": "stdout",
     "output_type": "stream",
     "text": [
      "Test accuracy of model 56.86%:\n"
     ]
    }
   ],
   "source": [
    "# hyper params with accuracy of 63.20% based on max_evals = 40\n",
    "best_bm_04567_params =  {'dropout0': 0.25282483292854196,\n",
    "                  'dropout1': 0.6226846699645904,\n",
    "                  'fc_size0': 128,\n",
    "                  'filter_size0': 64,\n",
    "                  'filter_size1': 64,\n",
    "                  'kernel_size0': 5,\n",
    "                  'kernel_size1': 3,\n",
    "                  'num_layers': {'layers': 'two'},\n",
    "                  'activation': 'relu',\n",
    "                  'optimizer' : 'adam',\n",
    "                  'nb_epochs': 40\n",
    "                  }\n",
    "bm_04567_best_model = bm_04567.train_model(h_params = best_bm_04567_params, hyper_param_tuning = False )['model']\n",
    "bm_04567_best_model.save('bm_04567_best_model.h5')"
   ]
  },
  {
   "cell_type": "code",
   "execution_count": 6,
   "metadata": {
    "ExecuteTime": {
     "end_time": "2017-11-02T15:37:39.389150Z",
     "start_time": "2017-11-02T15:37:31.651585Z"
    },
    "collapsed": false,
    "run_control": {
     "frozen": false,
     "read_only": false
    }
   },
   "outputs": [
    {
     "name": "stdout",
     "output_type": "stream",
     "text": [
      "*Accuracy of classifying the test set at level 1: 56.86%\n",
      "*Accuracy of classifying the test set at level 2: 79.38%\n",
      "*Accuracy of classifying the test set at level 3: 93.24%\n",
      "Normalized confusion matrix\n",
      "[[ 0.7   0.05  0.01  0.23  0.01]\n",
      " [ 0.53  0.34  0.    0.13  0.  ]\n",
      " [ 0.01  0.    0.68  0.08  0.23]\n",
      " [ 0.59  0.09  0.    0.31  0.01]\n",
      " [ 0.    0.    0.18  0.    0.81]]\n"
     ]
    },
    {
     "data": {
      "image/png": "[encoded data removed]",
      "text/plain": [
       "<matplotlib.figure.Figure at 0x3e14a50ac8>"
      ]
     },
     "metadata": {},
     "output_type": "display_data"
    }
   ],
   "source": [
    "bm_04567.compute_accuracy(bm_04567_best_model, max_acc_level = 3)\n",
    "bm_04567.plot_confusion_matrix(bm_04567_best_model, normalize = True)"
   ]
  },
  {
   "cell_type": "markdown",
   "metadata": {
    "run_control": {
     "frozen": false,
     "read_only": false
    }
   },
   "source": [
    "# Base model trained on 12389"
   ]
  },
  {
   "cell_type": "code",
   "execution_count": 9,
   "metadata": {
    "ExecuteTime": {
     "end_time": "2017-11-02T15:37:52.420258Z",
     "start_time": "2017-11-02T15:37:52.202681Z"
    },
    "collapsed": false,
    "run_control": {
     "frozen": false,
     "read_only": false
    }
   },
   "outputs": [],
   "source": [
    "bm_12389 = BaseModel(dh, c_04567 = False)"
   ]
  },
  {
   "cell_type": "code",
   "execution_count": 10,
   "metadata": {
    "ExecuteTime": {
     "end_time": "2017-11-02T15:57:51.292523Z",
     "start_time": "2017-11-02T15:37:54.050212Z"
    },
    "collapsed": false
   },
   "outputs": [
    {
     "name": "stdout",
     "output_type": "stream",
     "text": [
      "Test accuracy of model 0/2 is 98.52%:\n",
      "Test accuracy of model 1/2 is 98.86%:\n"
     ]
    },
    {
     "data": {
      "text/plain": [
       "({'dropout0': 0.31016854046336645,\n",
       "  'dropout1': 0.2840030501638232,\n",
       "  'fc_size0': 2,\n",
       "  'filter_size0': 2,\n",
       "  'filter_size1': 2,\n",
       "  'kernel_size0': 1,\n",
       "  'kernel_size1': 0,\n",
       "  'num_layers': 0},\n",
       " 0.98860000000000003,\n",
       " <hyperopt.base.Trials at 0x3e14a50b38>)"
      ]
     },
     "execution_count": 10,
     "metadata": {},
     "output_type": "execute_result"
    }
   ],
   "source": [
    "# hyper param tuning\n",
    "best, best_score, trials = bm_12389.tune_hyper_params(max_evals = 2)\n",
    "best, best_score, trials"
   ]
  },
  {
   "cell_type": "code",
   "execution_count": 11,
   "metadata": {
    "ExecuteTime": {
     "end_time": "2017-11-02T15:59:13.262368Z",
     "start_time": "2017-11-02T15:57:51.294529Z"
    },
    "collapsed": false
   },
   "outputs": [
    {
     "name": "stdout",
     "output_type": "stream",
     "text": [
      "Test accuracy of model 96.44%:\n"
     ]
    }
   ],
   "source": [
    "# model of about 99% accuracy of max_eval = 2\n",
    "best_bm_12389_params =  {'dropout0': 0.614347535183095,\n",
    "                  'dropout1': 0.45211595712010083,\n",
    "                  'fc_size0': 64,\n",
    "                  'filter_size0': 64,\n",
    "                  'filter_size1': 64,\n",
    "                  'kernel_size0': 5,\n",
    "                  'kernel_size1': 3,\n",
    "                  'num_layers': {'layers': 'two'},\n",
    "                  'activation': 'relu',\n",
    "                  'optimizer' : 'adam',\n",
    "                  'nb_epochs': 1\n",
    "                  }\n",
    "bm_12389_best_model = bm_12389.train_model(h_params = best_bm_12389_params, hyper_param_tuning = False)['model']\n",
    "bm_12389_best_model.save('bm_12389_best_model')"
   ]
  },
  {
   "cell_type": "code",
   "execution_count": 12,
   "metadata": {
    "ExecuteTime": {
     "end_time": "2017-11-02T15:59:18.412063Z",
     "start_time": "2017-11-02T15:59:13.263377Z"
    },
    "collapsed": false
   },
   "outputs": [
    {
     "name": "stdout",
     "output_type": "stream",
     "text": [
      "*Accuracy of classifying the test set at level 1: 96.44%\n",
      "*Accuracy of classifying the test set at level 2: 99.46%\n",
      "*Accuracy of classifying the test set at level 3: 99.92%\n",
      "Normalized confusion matrix\n",
      "[[ 0.96  0.    0.04  0.    0.  ]\n",
      " [ 0.    0.97  0.02  0.    0.  ]\n",
      " [ 0.01  0.06  0.93  0.    0.  ]\n",
      " [ 0.    0.03  0.01  0.96  0.  ]\n",
      " [ 0.    0.    0.    0.    1.  ]]\n"
     ]
    },
    {
     "data": {
      "image/png": "[encoded data removed]",
      "text/plain": [
       "<matplotlib.figure.Figure at 0x3e336f4f28>"
      ]
     },
     "metadata": {},
     "output_type": "display_data"
    }
   ],
   "source": [
    "bm_12389.compute_accuracy(bm_12389_best_model, max_acc_level = 3)\n",
    "bm_12389.plot_confusion_matrix(bm_12389_best_model, normalize = True)"
   ]
  },
  {
   "cell_type": "markdown",
   "metadata": {
    "run_control": {
     "frozen": false,
     "read_only": false
    }
   },
   "source": [
    "# Transfer learing pretrained on 12389"
   ]
  },
  {
   "cell_type": "code",
   "execution_count": 23,
   "metadata": {
    "ExecuteTime": {
     "end_time": "2017-11-02T16:07:28.821352Z",
     "start_time": "2017-11-02T16:07:28.593730Z"
    },
    "collapsed": false,
    "run_control": {
     "frozen": false,
     "read_only": false
    },
    "scrolled": false
   },
   "outputs": [],
   "source": [
    "tl = TransferLearning(dh, c_04567 = True)\n",
    "tl.set_base_model(bm_12389_best_model)"
   ]
  },
  {
   "cell_type": "code",
   "execution_count": 24,
   "metadata": {
    "ExecuteTime": {
     "end_time": "2017-11-02T16:08:30.725715Z",
     "start_time": "2017-11-02T16:07:29.084892Z"
    },
    "collapsed": false,
    "scrolled": true
   },
   "outputs": [
    {
     "name": "stderr",
     "output_type": "stream",
     "text": [
      "D:\\Google Drive\\TUe\\PDEng\\Modules\\Data Mining\\CodeExampleAndFashionDataset\\classes\\transfer_learning.py:49: UserWarning: Update your `Model` call to the Keras 2 API: `Model(inputs=Tensor(\"co..., outputs=Tensor(\"so...)`\n",
      "  return model\n"
     ]
    },
    {
     "name": "stdout",
     "output_type": "stream",
     "text": [
      "Test accuracy of model 0/3 is 56.46%:\n",
      "Test accuracy of model 1/3 is 58.40%:\n",
      "Test accuracy of model 2/3 is 56.78%:\n"
     ]
    },
    {
     "data": {
      "text/plain": [
       "({'dropout0': 0.34234407068812306,\n",
       "  'fc_size0': 2,\n",
       "  'lr': 1,\n",
       "  'train_conv0': 1,\n",
       "  'train_conv1': 0},\n",
       " 0.58399999999999996,\n",
       " <hyperopt.base.Trials at 0x3e37e2c898>)"
      ]
     },
     "execution_count": 24,
     "metadata": {},
     "output_type": "execute_result"
    }
   ],
   "source": [
    "# hyper param tuning\n",
    "best, best_score, trials = tl.tune_hyper_params(max_evals = 3)\n",
    "best, best_score, trials"
   ]
  },
  {
   "cell_type": "code",
   "execution_count": 27,
   "metadata": {
    "ExecuteTime": {
     "end_time": "2017-11-02T16:09:47.111851Z",
     "start_time": "2017-11-02T16:09:17.105068Z"
    },
    "collapsed": false,
    "run_control": {
     "frozen": false,
     "read_only": false
    }
   },
   "outputs": [
    {
     "name": "stderr",
     "output_type": "stream",
     "text": [
      "D:\\Google Drive\\TUe\\PDEng\\Modules\\Data Mining\\CodeExampleAndFashionDataset\\classes\\transfer_learning.py:49: UserWarning: Update your `Model` call to the Keras 2 API: `Model(inputs=Tensor(\"co..., outputs=Tensor(\"so...)`\n",
      "  model = Model(input=self.base_model.input, output=predictions)\n"
     ]
    },
    {
     "name": "stdout",
     "output_type": "stream",
     "text": [
      "Test accuracy of model 3/3 is 55.70%:\n"
     ]
    }
   ],
   "source": [
    "# hyper params with accuracy of 60.49% with max_eval = ??\n",
    "best_tl_params =  {'dropout0': 0.5928175094135784,\n",
    "                  'fc_size0': 128,\n",
    "                  'train_conv0': False,\n",
    "                  'train_conv1': True,                  \n",
    "                  'activation': 'relu',\n",
    "                  'optimizer' : Adam,\n",
    "                  'lr':0.001,\n",
    "                  'nb_epochs': 40\n",
    "                  }\n",
    "\n",
    "tl_best_model = tl.train_model(h_params = best_tl_params)['model']\n",
    "tl_best_model.save('tl_best_model.h5')"
   ]
  },
  {
   "cell_type": "code",
   "execution_count": 28,
   "metadata": {
    "ExecuteTime": {
     "end_time": "2017-11-02T16:09:52.491136Z",
     "start_time": "2017-11-02T16:09:47.114850Z"
    },
    "collapsed": false
   },
   "outputs": [
    {
     "name": "stdout",
     "output_type": "stream",
     "text": [
      "*Accuracy of classifying the test set at level 1: 55.70%\n",
      "*Accuracy of classifying the test set at level 2: 79.36%\n",
      "*Accuracy of classifying the test set at level 3: 88.46%\n",
      "Normalized confusion matrix\n",
      "[[ 0.27  0.57  0.01  0.12  0.03]\n",
      " [ 0.1   0.8   0.    0.1   0.  ]\n",
      " [ 0.    0.01  0.59  0.1   0.3 ]\n",
      " [ 0.16  0.62  0.    0.21  0.01]\n",
      " [ 0.    0.    0.09  0.    0.91]]\n"
     ]
    },
    {
     "data": {
      "image/png": "[encoded data removed]",
      "text/plain": [
       "<matplotlib.figure.Figure at 0x3e3d38e160>"
      ]
     },
     "metadata": {},
     "output_type": "display_data"
    }
   ],
   "source": [
    "tl.compute_accuracy(tl_best_model, max_acc_level = 3)\n",
    "tl.plot_confusion_matrix(tl_best_model, normalize = True)"
   ]
  },
  {
   "cell_type": "markdown",
   "metadata": {
    "run_control": {
     "frozen": false,
     "read_only": false
    }
   },
   "source": [
    "# Siamese NN"
   ]
  },
  {
   "cell_type": "code",
   "execution_count": 29,
   "metadata": {
    "ExecuteTime": {
     "end_time": "2017-11-02T16:10:59.255747Z",
     "start_time": "2017-11-02T16:10:07.376872Z"
    },
    "collapsed": false,
    "run_control": {
     "frozen": false,
     "read_only": false
    },
    "scrolled": true
   },
   "outputs": [
    {
     "name": "stdout",
     "output_type": "stream",
     "text": [
      "Number of training pairs is 693 \n",
      "Number of val pairs is 297 \n"
     ]
    },
    {
     "name": "stderr",
     "output_type": "stream",
     "text": [
      "D:\\Google Drive\\TUe\\PDEng\\Modules\\Data Mining\\CodeExampleAndFashionDataset\\classes\\siamese_nn.py:128: UserWarning: Update your `Model` call to the Keras 2 API: `Model(inputs=[<tf.Tenso..., outputs=Tensor(\"de...)`\n",
      "  return Model(input=[input_a, input_b], output=flattened_weighted_distance)\n",
      "D:\\Google Drive\\TUe\\PDEng\\Modules\\Data Mining\\CodeExampleAndFashionDataset\\classes\\siamese_nn.py:143: UserWarning: The `nb_epoch` argument in `fit` has been renamed `epochs`.\n",
      "  verbose = 0\n",
      "C:\\Users\\azika\\AppData\\Local\\Continuum\\Anaconda3\\lib\\site-packages\\keras\\callbacks.py:496: RuntimeWarning: Early stopping conditioned on metric `acc` which is not available. Available metrics are: loss\n",
      "  (self.monitor, ','.join(list(logs.keys()))), RuntimeWarning\n"
     ]
    },
    {
     "name": "stdout",
     "output_type": "stream",
     "text": [
      "Test accuracy of model 0/2 is 85.19%:\n",
      "Test accuracy of model 1/2 is 84.51%:\n"
     ]
    },
    {
     "data": {
      "text/plain": [
       "({'fc_size0': 0,\n",
       "  'filter_size0': 1,\n",
       "  'filter_size1': 0,\n",
       "  'filter_size2': 2,\n",
       "  'kernel_size0': 0,\n",
       "  'kernel_size1': 0,\n",
       "  'kernel_size2': 0,\n",
       "  'num_layers': 1},\n",
       " 0.85185185185185186,\n",
       " <hyperopt.base.Trials at 0x3e305a2c18>)"
      ]
     },
     "execution_count": 29,
     "metadata": {},
     "output_type": "execute_result"
    }
   ],
   "source": [
    "sh = SiameseNN(dh)\n",
    "# hyper param tuning\n",
    "best, best_score, trials = sh.tune_hyper_params(max_evals = 2)\n",
    "best, best_score, trials"
   ]
  },
  {
   "cell_type": "code",
   "execution_count": 30,
   "metadata": {
    "ExecuteTime": {
     "end_time": "2017-11-02T16:11:54.329134Z",
     "start_time": "2017-11-02T16:10:59.257752Z"
    },
    "collapsed": false,
    "scrolled": true
   },
   "outputs": [
    {
     "name": "stderr",
     "output_type": "stream",
     "text": [
      "D:\\Google Drive\\TUe\\PDEng\\Modules\\Data Mining\\CodeExampleAndFashionDataset\\classes\\siamese_nn.py:128: UserWarning: Update your `Model` call to the Keras 2 API: `Model(inputs=[<tf.Tenso..., outputs=Tensor(\"de...)`\n",
      "  return Model(input=[input_a, input_b], output=flattened_weighted_distance)\n",
      "D:\\Google Drive\\TUe\\PDEng\\Modules\\Data Mining\\CodeExampleAndFashionDataset\\classes\\siamese_nn.py:143: UserWarning: The `nb_epoch` argument in `fit` has been renamed `epochs`.\n",
      "  verbose = 0\n",
      "C:\\Users\\azika\\AppData\\Local\\Continuum\\Anaconda3\\lib\\site-packages\\keras\\callbacks.py:496: RuntimeWarning: Early stopping conditioned on metric `acc` which is not available. Available metrics are: loss\n",
      "  (self.monitor, ','.join(list(logs.keys()))), RuntimeWarning\n"
     ]
    },
    {
     "name": "stdout",
     "output_type": "stream",
     "text": [
      "Test accuracy of model 2/2 is 86.87%:\n"
     ]
    }
   ],
   "source": [
    "# hyper params with accuracy of 92% on verification accuracy (pairs) \n",
    "best_sh_params =  {'fc_size0': 128,\n",
    "                  'filter_size0': 64,\n",
    "                  'filter_size1': 64,\n",
    "                  'kernel_size0': 4,\n",
    "                  'kernel_size1': 4,                 \n",
    "                  'num_layers': {'layers': 'three', 'filter_size2': 64,  'kernel_size2': 4},\n",
    "                  'activation': 'relu',\n",
    "                  'optimizer' : 'adam',\n",
    "                  'nb_epochs': 40\n",
    "                  }\n",
    "sh_best_model = sh.train_model(h_params = best_sh_params)['model']\n",
    "sh_best_model.save('sh_best_model.h5')"
   ]
  },
  {
   "cell_type": "code",
   "execution_count": 33,
   "metadata": {
    "ExecuteTime": {
     "end_time": "2017-11-02T16:12:33.126654Z",
     "start_time": "2017-11-02T16:12:32.681470Z"
    },
    "collapsed": false
   },
   "outputs": [
    {
     "name": "stdout",
     "output_type": "stream",
     "text": [
      "* Accuracy of classifying the val set: 86.87%\n"
     ]
    },
    {
     "data": {
      "text/plain": [
       "0.86868686868686873"
      ]
     },
     "execution_count": 33,
     "metadata": {},
     "output_type": "execute_result"
    }
   ],
   "source": [
    "# compute verification accuracy\n",
    "sh.compute_accuracy(sh_best_model)[0]['acc']"
   ]
  },
  {
   "cell_type": "code",
   "execution_count": 34,
   "metadata": {
    "ExecuteTime": {
     "end_time": "2017-11-02T16:12:52.892966Z",
     "start_time": "2017-11-02T16:12:34.465997Z"
    },
    "collapsed": false
   },
   "outputs": [
    {
     "name": "stdout",
     "output_type": "stream",
     "text": [
      "*Accuracy of classifying the test set at level 1: 43.78%\n",
      "*Accuracy of classifying the test set at level 2: 69.38%\n",
      "*Accuracy of classifying the test set at level 3: 77.16%\n",
      "Normalized confusion matrix\n",
      "[[ 0.29  0.26  0.04  0.33  0.07]\n",
      " [ 0.54  0.28  0.02  0.15  0.01]\n",
      " [ 0.04  0.    0.7   0.02  0.24]\n",
      " [ 0.33  0.2   0.05  0.4   0.02]\n",
      " [ 0.12  0.01  0.34  0.01  0.51]]\n"
     ]
    },
    {
     "data": {
      "image/png": "[encoded data removed]",
      "text/plain": [
       "<matplotlib.figure.Figure at 0x3e3d2d6a90>"
      ]
     },
     "metadata": {},
     "output_type": "display_data"
    }
   ],
   "source": [
    "sh.compute_one_shot_accuracy(sh_best_model, max_acc_level = 3)\n",
    "sh.plot_confusion_matrix(sh_best_model, normalize = True)"
   ]
  },
  {
   "cell_type": "code",
   "execution_count": null,
   "metadata": {
    "collapsed": true
   },
   "outputs": [],
   "source": []
  }
 ],
 "metadata": {
  "anaconda-cloud": {},
  "hide_input": false,
  "kernelspec": {
   "display_name": "Python [conda root]",
   "language": "python",
   "name": "conda-root-py"
  },
  "language_info": {
   "codemirror_mode": {
    "name": "ipython",
    "version": 3
   },
   "file_extension": ".py",
   "mimetype": "text/x-python",
   "name": "python",
   "nbconvert_exporter": "python",
   "pygments_lexer": "ipython3",
   "version": "3.5.2"
  }
 },
 "nbformat": 4,
 "nbformat_minor": 0
}
