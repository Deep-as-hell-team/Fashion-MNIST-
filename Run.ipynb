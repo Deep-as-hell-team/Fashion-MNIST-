{
 "cells": [
  {
   "cell_type": "code",
   "execution_count": 1,
   "metadata": {
    "ExecuteTime": {
     "end_time": "2017-11-06T15:24:33.680658Z",
     "start_time": "2017-11-06T15:24:18.196726Z"
    },
    "code_folding": [],
    "collapsed": false,
    "run_control": {
     "frozen": false,
     "read_only": false
    }
   },
   "outputs": [
    {
     "name": "stderr",
     "output_type": "stream",
     "text": [
      "Using TensorFlow backend.\n"
     ]
    }
   ],
   "source": [
    "from numpy.random import seed\n",
    "from tensorflow import set_random_seed\n",
    "import pickle\n",
    "\n",
    "import keras\n",
    "from classes.data_handler import DataHandler\n",
    "from classes.siamese_nn import SiameseNN\n",
    "from classes.nn_network import NNNetwork\n",
    "from classes.base_model import BaseModel\n",
    "from classes.transfer_learning import TransferLearning\n",
    "from keras.optimizers import Adam\n",
    "\n",
    "%load_ext autoreload\n",
    "%autoreload 2\n",
    "\n",
    "# random seat\n",
    "seed(1)\n",
    "set_random_seed(2)"
   ]
  },
  {
   "cell_type": "markdown",
   "metadata": {
    "run_control": {
     "frozen": false,
     "read_only": false
    }
   },
   "source": [
    "# Data Loading"
   ]
  },
  {
   "cell_type": "code",
   "execution_count": 2,
   "metadata": {
    "ExecuteTime": {
     "end_time": "2017-11-06T15:24:34.266573Z",
     "start_time": "2017-11-06T15:24:33.689039Z"
    },
    "collapsed": false,
    "run_control": {
     "frozen": false,
     "read_only": false
    }
   },
   "outputs": [],
   "source": [
    "# getting a new data handler\n",
    "load_data_handler = True\n",
    "\n",
    "image_gen_params = {\n",
    "'rotation_range' : 30,\n",
    "'width_shift_range' : 0.2,\n",
    "'height_shift_range' : 0.2,\n",
    "'shear_range' : 0.3\n",
    " }\n",
    "\n",
    "if load_data_handler:\n",
    "    with open(r\"dh.pickle\", \"rb\") as input_file:\n",
    "        dh = pickle.load(input_file)\n",
    "else:\n",
    "    dh = DataHandler()\n",
    "    dh.load_data()\n",
    "    dh.augment_data(use_train = True, c_04567 = True, N = 100, visualize = False, **image_gen_params)\n",
    "    #dh.augment_data(use_train = True, c_04567 = False, N = 2, visualize = False, **image_gen_params)\n",
    "    with open(r\"dh_.pickle\", \"wb\") as output_file:\n",
    "        pickle.dump(dh, output_file)"
   ]
  },
  {
   "cell_type": "markdown",
   "metadata": {
    "run_control": {
     "frozen": false,
     "read_only": false
    }
   },
   "source": [
    "# Base model trained on 04567\n",
    "\n",
    "Train and evaluate a neural network on augmented data observation of classes 04567 (one instance per class)."
   ]
  },
  {
   "cell_type": "code",
   "execution_count": 4,
   "metadata": {
    "ExecuteTime": {
     "end_time": "2017-11-06T15:27:27.214852Z",
     "start_time": "2017-11-06T15:27:26.990253Z"
    },
    "collapsed": false,
    "run_control": {
     "frozen": false,
     "read_only": false
    }
   },
   "outputs": [],
   "source": [
    "bm_04567 = BaseModel(dh, c_04567 = True)"
   ]
  },
  {
   "cell_type": "code",
   "execution_count": 7,
   "metadata": {
    "ExecuteTime": {
     "end_time": "2017-11-06T15:28:06.379347Z",
     "start_time": "2017-11-06T15:28:04.168330Z"
    },
    "collapsed": false
   },
   "outputs": [],
   "source": [
    "bm_04567_best_model = keras.models.load_model('bm_04567_best_model.h5') #only if the modle has been trained --> otherwise train as below."
   ]
  },
  {
   "cell_type": "markdown",
   "metadata": {},
   "source": [
    "## Training"
   ]
  },
  {
   "cell_type": "code",
   "execution_count": 25,
   "metadata": {
    "ExecuteTime": {
     "end_time": "2017-11-06T09:33:07.880472Z",
     "start_time": "2017-11-06T08:20:16.235018Z"
    },
    "collapsed": false,
    "run_control": {
     "frozen": false,
     "read_only": false
    },
    "scrolled": true
   },
   "outputs": [
    {
     "name": "stdout",
     "output_type": "stream",
     "text": [
      "Test accuracy of model 0/25 is 63.62%:\n",
      "Test accuracy of model 1/25 is 62.66%:\n",
      "Test accuracy of model 2/25 is 63.20%:\n",
      "Test accuracy of model 3/25 is 62.10%:\n",
      "Test accuracy of model 4/25 is 62.92%:\n",
      "Test accuracy of model 5/25 is 53.60%:\n",
      "Test accuracy of model 6/25 is 63.86%:\n",
      "Test accuracy of model 7/25 is 59.88%:\n",
      "Test accuracy of model 8/25 is 60.74%:\n",
      "Test accuracy of model 9/25 is 63.20%:\n",
      "Test accuracy of model 10/25 is 63.38%:\n",
      "Test accuracy of model 11/25 is 64.20%:\n",
      "Test accuracy of model 12/25 is 58.62%:\n",
      "Test accuracy of model 13/25 is 55.36%:\n",
      "Test accuracy of model 14/25 is 61.42%:\n",
      "Test accuracy of model 15/25 is 60.54%:\n",
      "Test accuracy of model 16/25 is 63.02%:\n",
      "Test accuracy of model 17/25 is 55.50%:\n",
      "Test accuracy of model 18/25 is 56.24%:\n",
      "Test accuracy of model 19/25 is 63.46%:\n",
      "Test accuracy of model 20/25 is 63.74%:\n",
      "Test accuracy of model 21/25 is 66.26%:\n",
      "Test accuracy of model 22/25 is 63.18%:\n",
      "Test accuracy of model 23/25 is 63.48%:\n",
      "Test accuracy of model 24/25 is 61.02%:\n"
     ]
    },
    {
     "data": {
      "text/plain": [
       "({'dropout0': 0.4579002534236075,\n",
       "  'dropout1': 0.3927835608634182,\n",
       "  'dropout2': 0.6818165299238035,\n",
       "  'fc_size0': 3,\n",
       "  'filter_size0': 5,\n",
       "  'filter_size1': 2,\n",
       "  'filter_size2': 2,\n",
       "  'kernel_size0': 2,\n",
       "  'kernel_size1': 1,\n",
       "  'kernel_size2': 0,\n",
       "  'lr': 2,\n",
       "  'num_layers': 1},\n",
       " 0.66259999999999997,\n",
       " <hyperopt.base.Trials at 0x91b1745048>)"
      ]
     },
     "execution_count": 25,
     "metadata": {},
     "output_type": "execute_result"
    }
   ],
   "source": [
    "# hyper param tuning\n",
    "best_04567, best_score_04567, trials_04567 = bm_04567.tune_hyper_params(max_evals = 25)\n",
    "best_04567, best_score_04567, trials_04567"
   ]
  },
  {
   "cell_type": "code",
   "execution_count": 109,
   "metadata": {
    "ExecuteTime": {
     "end_time": "2017-11-06T15:18:11.938115Z",
     "start_time": "2017-11-06T15:18:11.718530Z"
    },
    "collapsed": false
   },
   "outputs": [],
   "source": [
    "# saving the best model - 66.1% accuracy\n",
    "bm_04567_best_model = trials_04567.trials[21]['result']['model']\n",
    "bm_04567_best_model.save('bm_04567_best_model.h5')"
   ]
  },
  {
   "cell_type": "code",
   "execution_count": 13,
   "metadata": {
    "ExecuteTime": {
     "end_time": "2017-11-06T08:09:49.250258Z",
     "start_time": "2017-11-06T08:09:31.352826Z"
    },
    "code_folding": [],
    "collapsed": false,
    "run_control": {
     "frozen": false,
     "read_only": false
    }
   },
   "outputs": [
    {
     "name": "stdout",
     "output_type": "stream",
     "text": [
      "Test accuracy of model 60.98%:\n"
     ]
    }
   ],
   "source": [
    "# possibility of retraining the best model from stretchs\n",
    "best_bm_04567_params =  {'dropout0': 0.4579002534236075,\n",
    "                  'dropout1':  0.3927835608634182,\n",
    "                  'fc_size0': 512,\n",
    "                  'filter_size0': 512,\n",
    "                  'filter_size1': 64,\n",
    "                  'kernel_size0': 5,\n",
    "                  'kernel_size1': 4,\n",
    "                  'num_layers': {'layers': 'three', 'filter_size2': 128, 'kernel_size2': 3,  'dropout2': 0.6818165299238035},\n",
    "                  'activation': 'relu',\n",
    "                  'optimizer' : Adam,\n",
    "                  'lr': 0.0001,\n",
    "                  'nb_epochs': 80\n",
    "                  }\n",
    "bm_04567_best_model = bm_04567.train_model(h_params = best_bm_04567_params, hyper_param_tuning = False )['model']"
   ]
  },
  {
   "cell_type": "markdown",
   "metadata": {},
   "source": [
    "## Evaluation"
   ]
  },
  {
   "cell_type": "code",
   "execution_count": 8,
   "metadata": {
    "ExecuteTime": {
     "end_time": "2017-11-06T15:28:57.409163Z",
     "start_time": "2017-11-06T15:28:07.944104Z"
    },
    "collapsed": false,
    "run_control": {
     "frozen": false,
     "read_only": false
    }
   },
   "outputs": [
    {
     "name": "stdout",
     "output_type": "stream",
     "text": [
      "*Accuracy of classifying the test set at level 1: 66.26%\n",
      "*Accuracy of classifying the test set at level 2: 78.38%\n",
      "*Accuracy of classifying the test set at level 3: 90.22%\n",
      "Normalized confusion matrix\n",
      "[[ 0.8   0.07  0.01  0.11  0.01]\n",
      " [ 0.09  0.83  0.    0.08  0.  ]\n",
      " [ 0.    0.01  0.62  0.09  0.27]\n",
      " [ 0.41  0.42  0.    0.17  0.01]\n",
      " [ 0.    0.01  0.09  0.    0.9 ]]\n"
     ]
    },
    {
     "data": {
      "image/png": "[encoded data removed]",
      "text/plain": [
       "<matplotlib.figure.Figure at 0x46670c2f98>"
      ]
     },
     "metadata": {},
     "output_type": "display_data"
    }
   ],
   "source": [
    "bm_04567.get_accuracy(bm_04567_best_model, max_acc_level = 3)\n",
    "bm_04567.plot_confusion_matrix(bm_04567_best_model, normalize = True)"
   ]
  },
  {
   "cell_type": "markdown",
   "metadata": {
    "run_control": {
     "frozen": false,
     "read_only": false
    }
   },
   "source": [
    "# Base model trained on 12389\n",
    "Train a neural network using data observation from classes 12389 (6000 observation per class)."
   ]
  },
  {
   "cell_type": "code",
   "execution_count": 9,
   "metadata": {
    "ExecuteTime": {
     "end_time": "2017-11-06T15:30:48.894210Z",
     "start_time": "2017-11-06T15:30:48.670295Z"
    },
    "collapsed": false,
    "run_control": {
     "frozen": false,
     "read_only": false
    }
   },
   "outputs": [],
   "source": [
    "bm_12389 = BaseModel(dh, c_04567 = False)"
   ]
  },
  {
   "cell_type": "code",
   "execution_count": 10,
   "metadata": {
    "ExecuteTime": {
     "end_time": "2017-11-06T15:30:52.023376Z",
     "start_time": "2017-11-06T15:30:49.143095Z"
    },
    "collapsed": true
   },
   "outputs": [],
   "source": [
    "bm_12389_best_model = keras.models.load_model('bm_12389_best_model') # only when trained already"
   ]
  },
  {
   "cell_type": "markdown",
   "metadata": {},
   "source": [
    "## Training"
   ]
  },
  {
   "cell_type": "code",
   "execution_count": 27,
   "metadata": {
    "ExecuteTime": {
     "end_time": "2017-11-04T13:36:39.927959Z",
     "start_time": "2017-11-03T19:43:28.387046Z"
    },
    "collapsed": false,
    "run_control": {
     "frozen": false,
     "read_only": false
    },
    "scrolled": true
   },
   "outputs": [
    {
     "name": "stdout",
     "output_type": "stream",
     "text": [
      "Test accuracy of model 0/10 is 98.24%:\n",
      "Test accuracy of model 1/10 is 98.24%:\n",
      "Test accuracy of model 2/10 is 98.26%:\n",
      "Test accuracy of model 3/10 is 98.66%:\n",
      "Test accuracy of model 4/10 is 98.60%:\n",
      "Test accuracy of model 5/10 is 98.86%:\n",
      "Test accuracy of model 6/10 is 98.60%:\n",
      "Test accuracy of model 7/10 is 98.30%:\n",
      "Test accuracy of model 8/10 is 98.32%:\n",
      "Test accuracy of model 9/10 is 98.36%:\n"
     ]
    },
    {
     "data": {
      "text/plain": [
       "({'dropout0': 0.3639061292022006,\n",
       "  'dropout1': 0.3485488701471488,\n",
       "  'fc_size0': 4,\n",
       "  'filter_size0': 4,\n",
       "  'filter_size1': 3,\n",
       "  'kernel_size0': 1,\n",
       "  'kernel_size1': 1,\n",
       "  'lr': 2,\n",
       "  'num_layers': 0},\n",
       " 0.98860000000000003,\n",
       " <hyperopt.base.Trials at 0x9a7386fe10>)"
      ]
     },
     "execution_count": 27,
     "metadata": {},
     "output_type": "execute_result"
    }
   ],
   "source": [
    "# hyper param tuning\n",
    "best, best_score, trials = bm_12389.tune_hyper_params(max_evals = 10)\n",
    "best, best_score, trials"
   ]
  },
  {
   "cell_type": "code",
   "execution_count": 29,
   "metadata": {
    "ExecuteTime": {
     "end_time": "2017-11-04T23:01:52.324339Z",
     "start_time": "2017-11-04T20:44:51.752606Z"
    },
    "collapsed": false,
    "run_control": {
     "frozen": false,
     "read_only": false
    }
   },
   "outputs": [
    {
     "name": "stdout",
     "output_type": "stream",
     "text": [
      "Test accuracy of model 98.38%:\n"
     ]
    }
   ],
   "source": [
    "# model of about 0.988 accuracy of max_eval = 10\n",
    "best_bm_12389_params =  {'dropout0': 0.3639061292022006,\n",
    "                  'dropout1': 0.3485488701471488,\n",
    "                  'fc_size0': 1024,\n",
    "                  'filter_size0': 256,\n",
    "                  'filter_size1': 128,\n",
    "                  'kernel_size0': 4,\n",
    "                  'kernel_size1': 4,\n",
    "                  'num_layers': {'layers': 'two'},\n",
    "                  'activation': 'relu',\n",
    "                  'optimizer' : Adam,\n",
    "                  'lr':0.00001,\n",
    "                  'nb_epochs': 80\n",
    "                  }\n",
    "bm_12389_best_model = bm_12389.train_model(h_params = best_bm_12389_params, hyper_param_tuning = False)['model']\n",
    "bm_12389_best_model.save('bm_12389_best_model')"
   ]
  },
  {
   "cell_type": "markdown",
   "metadata": {},
   "source": [
    "## Evaluation"
   ]
  },
  {
   "cell_type": "code",
   "execution_count": 30,
   "metadata": {
    "ExecuteTime": {
     "end_time": "2017-11-04T23:02:39.005011Z",
     "start_time": "2017-11-04T23:01:52.325342Z"
    },
    "collapsed": false,
    "run_control": {
     "frozen": false,
     "read_only": false
    },
    "scrolled": true
   },
   "outputs": [
    {
     "name": "stdout",
     "output_type": "stream",
     "text": [
      "*Accuracy of classifying the test set at level 1: 98.38%\n",
      "*Accuracy of classifying the test set at level 2: 99.70%\n",
      "*Accuracy of classifying the test set at level 3: 99.96%\n",
      "Normalized confusion matrix\n",
      "[[ 0.99  0.    0.01  0.    0.  ]\n",
      " [ 0.    0.99  0.01  0.    0.  ]\n",
      " [ 0.01  0.03  0.96  0.    0.  ]\n",
      " [ 0.    0.01  0.    0.97  0.  ]\n",
      " [ 0.    0.    0.    0.    1.  ]]\n"
     ]
    },
    {
     "data": {
      "image/png": "[encoded data removed]",
      "text/plain": [
       "<matplotlib.figure.Figure at 0x9a7386fe80>"
      ]
     },
     "metadata": {},
     "output_type": "display_data"
    }
   ],
   "source": [
    "bm_12389.get_accuracy(bm_12389_best_model, max_acc_level = 3)\n",
    "bm_12389.plot_confusion_matrix(bm_12389_best_model, normalize = True)"
   ]
  },
  {
   "cell_type": "markdown",
   "metadata": {
    "run_control": {
     "frozen": false,
     "read_only": false
    }
   },
   "source": [
    "# Transfer learing pretrained on 12389\n",
    "Train a NN to classify 04567. Use weights from the model of 12389 for pre-training."
   ]
  },
  {
   "cell_type": "code",
   "execution_count": 11,
   "metadata": {
    "ExecuteTime": {
     "end_time": "2017-11-06T15:30:55.075416Z",
     "start_time": "2017-11-06T15:30:54.854799Z"
    },
    "collapsed": false,
    "run_control": {
     "frozen": false,
     "read_only": false
    },
    "scrolled": false
   },
   "outputs": [],
   "source": [
    "tl = TransferLearning(dh, c_04567 = True)\n",
    "tl.set_base_model(bm_12389_best_model)"
   ]
  },
  {
   "cell_type": "code",
   "execution_count": 13,
   "metadata": {
    "ExecuteTime": {
     "end_time": "2017-11-06T15:31:12.638354Z",
     "start_time": "2017-11-06T15:31:10.646223Z"
    },
    "collapsed": false
   },
   "outputs": [
    {
     "name": "stderr",
     "output_type": "stream",
     "text": [
      "C:\\Users\\azika\\AppData\\Local\\Continuum\\Anaconda3\\lib\\site-packages\\keras\\models.py:287: UserWarning: Error in loading the saved optimizer state. As a result, your model is starting with a freshly initialized optimizer.\n",
      "  warnings.warn('Error in loading the saved optimizer '\n"
     ]
    }
   ],
   "source": [
    "tl_best_model = keras.models.load_model('tl_best_model.h5') #only when already trained"
   ]
  },
  {
   "cell_type": "markdown",
   "metadata": {},
   "source": [
    "## Training"
   ]
  },
  {
   "cell_type": "code",
   "execution_count": 56,
   "metadata": {
    "ExecuteTime": {
     "end_time": "2017-11-06T10:49:36.351317Z",
     "start_time": "2017-11-06T10:35:55.174736Z"
    },
    "collapsed": false,
    "run_control": {
     "frozen": false,
     "read_only": false
    },
    "scrolled": true
   },
   "outputs": [
    {
     "name": "stderr",
     "output_type": "stream",
     "text": [
      "D:\\Google Drive\\TUe\\PDEng\\Modules\\Data Mining\\CodeExampleAndFashionDataset\\classes\\transfer_learning.py:51: UserWarning: Update your `Model` call to the Keras 2 API: `Model(inputs=Tensor(\"co..., outputs=Tensor(\"so...)`\n",
      "  model = Model(input=self.base_model.input, output=predictions)\n"
     ]
    },
    {
     "name": "stdout",
     "output_type": "stream",
     "text": [
      "Test accuracy of model 0/10 is 66.76%:\n",
      "Test accuracy of model 1/10 is 64.86%:\n",
      "Test accuracy of model 2/10 is 68.84%:\n",
      "Test accuracy of model 3/10 is 68.64%:\n",
      "Test accuracy of model 4/10 is 64.84%:\n",
      "Test accuracy of model 5/10 is 66.68%:\n",
      "Test accuracy of model 6/10 is 65.88%:\n",
      "Test accuracy of model 7/10 is 65.98%:\n",
      "Test accuracy of model 8/10 is 66.34%:\n",
      "Test accuracy of model 9/10 is 64.16%:\n"
     ]
    },
    {
     "data": {
      "text/plain": [
       "({'dropout0': 0.6439146194729336,\n",
       "  'fc_size0': 3,\n",
       "  'lr': 1,\n",
       "  'train_conv0': 1,\n",
       "  'train_conv1': 1,\n",
       "  'train_conv2': 0},\n",
       " 0.68840000000000001,\n",
       " <hyperopt.base.Trials at 0x930498ce48>)"
      ]
     },
     "execution_count": 56,
     "metadata": {},
     "output_type": "execute_result"
    }
   ],
   "source": [
    "# hyper param tuning\n",
    "best_tl, best_score_tl, trials_tl = tl.tune_hyper_params(max_evals = 10)\n",
    "best_tl, best_score_tl, trials_tl"
   ]
  },
  {
   "cell_type": "code",
   "execution_count": 123,
   "metadata": {
    "ExecuteTime": {
     "end_time": "2017-11-06T15:24:01.133100Z",
     "start_time": "2017-11-06T15:24:00.622416Z"
    },
    "collapsed": true
   },
   "outputs": [],
   "source": [
    "tl_best_model = trials_tl.trials[2]['result']['model']\n",
    "tl_best_model.save('tl_best_model.h5')"
   ]
  },
  {
   "cell_type": "markdown",
   "metadata": {},
   "source": [
    "## Evaluation"
   ]
  },
  {
   "cell_type": "code",
   "execution_count": 14,
   "metadata": {
    "ExecuteTime": {
     "end_time": "2017-11-06T15:32:11.449039Z",
     "start_time": "2017-11-06T15:31:29.126741Z"
    },
    "collapsed": false,
    "run_control": {
     "frozen": false,
     "read_only": false
    }
   },
   "outputs": [
    {
     "name": "stdout",
     "output_type": "stream",
     "text": [
      "*Accuracy of classifying the test set at level 1: 66.62%\n",
      "*Accuracy of classifying the test set at level 2: 84.24%\n",
      "*Accuracy of classifying the test set at level 3: 96.82%\n",
      "Normalized confusion matrix\n",
      "[[ 0.73  0.04  0.01  0.22  0.  ]\n",
      " [ 0.06  0.7   0.    0.24  0.  ]\n",
      " [ 0.    0.01  0.48  0.19  0.33]\n",
      " [ 0.23  0.31  0.    0.46  0.  ]\n",
      " [ 0.    0.    0.03  0.    0.97]]\n"
     ]
    },
    {
     "data": {
      "image/png": "[encoded data removed]",
      "text/plain": [
       "<matplotlib.figure.Figure at 0x46594694e0>"
      ]
     },
     "metadata": {},
     "output_type": "display_data"
    }
   ],
   "source": [
    "tl.get_accuracy(tl_best_model, max_acc_level = 3)\n",
    "tl.plot_confusion_matrix(tl_best_model, normalize = True)"
   ]
  },
  {
   "cell_type": "markdown",
   "metadata": {
    "run_control": {
     "frozen": false,
     "read_only": false
    }
   },
   "source": [
    "# Siamese NN\n",
    "\n",
    "Use siamsese network from Koch et al.(2015)."
   ]
  },
  {
   "cell_type": "code",
   "execution_count": 15,
   "metadata": {
    "ExecuteTime": {
     "end_time": "2017-11-06T15:32:32.999052Z",
     "start_time": "2017-11-06T15:32:32.758307Z"
    },
    "collapsed": false
   },
   "outputs": [
    {
     "name": "stdout",
     "output_type": "stream",
     "text": [
      "Number of training pairs is 693 \n",
      "Number of val pairs is 297 \n"
     ]
    }
   ],
   "source": [
    "sh = SiameseNN(dh)"
   ]
  },
  {
   "cell_type": "code",
   "execution_count": 16,
   "metadata": {
    "ExecuteTime": {
     "end_time": "2017-11-06T15:32:34.767606Z",
     "start_time": "2017-11-06T15:32:33.056173Z"
    },
    "collapsed": true
   },
   "outputs": [],
   "source": [
    "sh_best_model = keras.models.load_model('sh_best_model_dropout.h5')"
   ]
  },
  {
   "cell_type": "markdown",
   "metadata": {},
   "source": [
    "## Training"
   ]
  },
  {
   "cell_type": "code",
   "execution_count": 88,
   "metadata": {
    "ExecuteTime": {
     "end_time": "2017-11-06T12:50:55.274438Z",
     "start_time": "2017-11-06T12:46:33.391115Z"
    },
    "collapsed": false,
    "run_control": {
     "frozen": false,
     "read_only": false
    },
    "scrolled": true
   },
   "outputs": [
    {
     "name": "stdout",
     "output_type": "stream",
     "text": [
      "Number of training pairs is 693 \n",
      "Number of val pairs is 297 \n"
     ]
    },
    {
     "name": "stderr",
     "output_type": "stream",
     "text": [
      "D:\\Google Drive\\TUe\\PDEng\\Modules\\Data Mining\\CodeExampleAndFashionDataset\\classes\\siamese_nn.py:137: UserWarning: Update your `Model` call to the Keras 2 API: `Model(inputs=[<tf.Tenso..., outputs=Tensor(\"de...)`\n",
      "  return Model(input=[input_a, input_b], output=flattened_weighted_distance)\n",
      "D:\\Google Drive\\TUe\\PDEng\\Modules\\Data Mining\\CodeExampleAndFashionDataset\\classes\\siamese_nn.py:153: UserWarning: The `nb_epoch` argument in `fit` has been renamed `epochs`.\n",
      "  verbose = 1\n"
     ]
    },
    {
     "name": "stdout",
     "output_type": "stream",
     "text": [
      "{'filter_size0': 128, 'dropout1': 0.7378711038548462, 'nb_epochs': 80, 'optimizer': <class 'keras.optimizers.Adam'>, 'fc_size0': 128, 'kernel_size1': 3, 'lr': 0.01, 'filter_size1': 16, 'kernel_size0': 5, 'dropout0': 0.2827373679679297, 'num_layers': {'dropout2': 0.7458296700867776, 'kernel_size2': 3, 'layers': 'three', 'filter_size2': 32}, 'activation': 'relu'}\n",
      "Epoch 1/80\n",
      "693/693 [==============================] - 2s - loss: 2.1709 - acc: 0.4791     \n",
      "Epoch 2/80\n",
      "693/693 [==============================] - 1s - loss: 0.7411 - acc: 0.5166     \n",
      "Epoch 3/80\n",
      "693/693 [==============================] - 1s - loss: 0.7188 - acc: 0.5123     \n",
      "Epoch 4/80\n",
      "693/693 [==============================] - 1s - loss: 0.7186 - acc: 0.5123     \n",
      "Epoch 5/80\n",
      "693/693 [==============================] - 1s - loss: 0.7183 - acc: 0.5123     \n",
      "Epoch 6/80\n",
      "693/693 [==============================] - 2s - loss: 0.7180 - acc: 0.5123     \n",
      "Test accuracy of model 0/5 is 47.14%:\n",
      "{'filter_size0': 16, 'dropout1': 0.5433853847961816, 'nb_epochs': 80, 'optimizer': <class 'keras.optimizers.Adam'>, 'fc_size0': 64, 'kernel_size1': 3, 'lr': 0.0001, 'filter_size1': 32, 'kernel_size0': 5, 'dropout0': 0.6769351642425945, 'num_layers': {'layers': 'two'}, 'activation': 'relu'}\n",
      "Epoch 1/80\n",
      "693/693 [==============================] - 0s - loss: 1.0732 - acc: 0.4863     \n",
      "Epoch 2/80\n",
      "693/693 [==============================] - 0s - loss: 0.7195 - acc: 0.5685     \n",
      "Epoch 3/80\n",
      "693/693 [==============================] - 0s - loss: 0.6471 - acc: 0.6580     \n",
      "Epoch 4/80\n",
      "693/693 [==============================] - 0s - loss: 0.6102 - acc: 0.6825     \n",
      "Epoch 5/80\n",
      "693/693 [==============================] - 0s - loss: 0.5950 - acc: 0.6392     \n",
      "Epoch 6/80\n",
      "693/693 [==============================] - 0s - loss: 0.5679 - acc: 0.7302     \n",
      "Epoch 7/80\n",
      "693/693 [==============================] - 0s - loss: 0.5640 - acc: 0.7013     \n",
      "Epoch 8/80\n",
      "693/693 [==============================] - 0s - loss: 0.5564 - acc: 0.6854     \n",
      "Epoch 9/80\n",
      "693/693 [==============================] - 0s - loss: 0.5579 - acc: 0.7143     \n",
      "Epoch 10/80\n",
      "693/693 [==============================] - 0s - loss: 0.5435 - acc: 0.7215     \n",
      "Test accuracy of model 1/5 is 75.08%:\n",
      "{'filter_size0': 32, 'dropout1': 0.44863478572756155, 'nb_epochs': 80, 'optimizer': <class 'keras.optimizers.Adam'>, 'fc_size0': 128, 'kernel_size1': 3, 'lr': 0.0001, 'filter_size1': 64, 'kernel_size0': 3, 'dropout0': 0.6299166275673753, 'num_layers': {'dropout2': 0.038678575366959816, 'kernel_size2': 3, 'layers': 'three', 'filter_size2': 256}, 'activation': 'relu'}\n",
      "Epoch 1/80\n",
      "693/693 [==============================] - 1s - loss: 0.9269 - acc: 0.5152     \n",
      "Epoch 2/80\n",
      "693/693 [==============================] - 0s - loss: 0.6991 - acc: 0.5556     \n",
      "Epoch 3/80\n",
      "693/693 [==============================] - 0s - loss: 0.6470 - acc: 0.6479     \n",
      "Epoch 4/80\n",
      "693/693 [==============================] - 0s - loss: 0.6164 - acc: 0.6883     \n",
      "Epoch 5/80\n",
      "693/693 [==============================] - 0s - loss: 0.5934 - acc: 0.7100     \n",
      "Epoch 6/80\n",
      "693/693 [==============================] - 1s - loss: 0.5846 - acc: 0.6638     \n",
      "Epoch 7/80\n",
      "693/693 [==============================] - 1s - loss: 0.5721 - acc: 0.7229     \n",
      "Epoch 8/80\n",
      "693/693 [==============================] - 1s - loss: 0.5559 - acc: 0.7128     \n",
      "Epoch 9/80\n",
      "693/693 [==============================] - 1s - loss: 0.5456 - acc: 0.7431     \n",
      "Epoch 10/80\n",
      "693/693 [==============================] - 1s - loss: 0.5277 - acc: 0.7518     \n",
      "Epoch 11/80\n",
      "693/693 [==============================] - 1s - loss: 0.5089 - acc: 0.7821     \n",
      "Epoch 12/80\n",
      "693/693 [==============================] - 0s - loss: 0.5035 - acc: 0.7532     \n",
      "Epoch 13/80\n",
      "693/693 [==============================] - 0s - loss: 0.4924 - acc: 0.7807     \n",
      "Epoch 14/80\n",
      "693/693 [==============================] - 0s - loss: 0.4823 - acc: 0.7807     \n",
      "Epoch 15/80\n",
      "693/693 [==============================] - 0s - loss: 0.4666 - acc: 0.7835     \n",
      "Test accuracy of model 2/5 is 75.08%:\n",
      "{'filter_size0': 16, 'dropout1': 0.3470874274174157, 'nb_epochs': 80, 'optimizer': <class 'keras.optimizers.Adam'>, 'fc_size0': 256, 'kernel_size1': 3, 'lr': 0.0001, 'filter_size1': 32, 'kernel_size0': 5, 'dropout0': 0.5019414960238361, 'num_layers': {'layers': 'two'}, 'activation': 'relu'}\n",
      "Epoch 1/80\n",
      "693/693 [==============================] - 0s - loss: 0.7387 - acc: 0.5325     \n",
      "Epoch 2/80\n",
      "693/693 [==============================] - 0s - loss: 0.6689 - acc: 0.5916     \n",
      "Epoch 3/80\n",
      "693/693 [==============================] - 0s - loss: 0.6001 - acc: 0.6724     \n",
      "Epoch 4/80\n",
      "693/693 [==============================] - 0s - loss: 0.5553 - acc: 0.7316     \n",
      "Epoch 5/80\n",
      "693/693 [==============================] - 0s - loss: 0.5078 - acc: 0.7792     \n",
      "Epoch 6/80\n",
      "693/693 [==============================] - 0s - loss: 0.4654 - acc: 0.7850     \n",
      "Epoch 7/80\n",
      "693/693 [==============================] - 0s - loss: 0.4427 - acc: 0.7792     \n",
      "Epoch 8/80\n",
      "693/693 [==============================] - 0s - loss: 0.4362 - acc: 0.7807     \n",
      "Epoch 9/80\n",
      "693/693 [==============================] - 0s - loss: 0.4339 - acc: 0.7980     \n",
      "Epoch 10/80\n",
      "693/693 [==============================] - 0s - loss: 0.3982 - acc: 0.8066     \n",
      "Epoch 11/80\n",
      "693/693 [==============================] - 0s - loss: 0.3851 - acc: 0.8211     \n",
      "Epoch 12/80\n",
      "693/693 [==============================] - 0s - loss: 0.3755 - acc: 0.8240     \n",
      "Epoch 13/80\n",
      "693/693 [==============================] - 0s - loss: 0.3650 - acc: 0.8398     \n",
      "Epoch 14/80\n",
      "693/693 [==============================] - 0s - loss: 0.3485 - acc: 0.8456     \n",
      "Epoch 15/80\n",
      "693/693 [==============================] - 0s - loss: 0.3406 - acc: 0.8571     \n",
      "Epoch 16/80\n",
      "693/693 [==============================] - 0s - loss: 0.3298 - acc: 0.8586     \n",
      "Epoch 17/80\n",
      "693/693 [==============================] - 0s - loss: 0.3318 - acc: 0.8514     \n",
      "Epoch 18/80\n",
      "693/693 [==============================] - 0s - loss: 0.3234 - acc: 0.8499     \n",
      "Epoch 19/80\n",
      "693/693 [==============================] - 0s - loss: 0.2985 - acc: 0.8759     \n",
      "Epoch 20/80\n",
      "693/693 [==============================] - 0s - loss: 0.3091 - acc: 0.8802     \n",
      "Epoch 21/80\n",
      "693/693 [==============================] - 0s - loss: 0.2976 - acc: 0.8759     \n",
      "Epoch 22/80\n",
      "693/693 [==============================] - 0s - loss: 0.2922 - acc: 0.8860     \n",
      "Epoch 23/80\n",
      "693/693 [==============================] - 0s - loss: 0.2805 - acc: 0.8874     \n",
      "Epoch 24/80\n",
      "693/693 [==============================] - 0s - loss: 0.2871 - acc: 0.9019     \n",
      "Epoch 25/80\n",
      "693/693 [==============================] - 0s - loss: 0.2623 - acc: 0.8947     \n",
      "Epoch 26/80\n",
      "693/693 [==============================] - 0s - loss: 0.2849 - acc: 0.8874     \n",
      "Epoch 27/80\n",
      "693/693 [==============================] - 0s - loss: 0.2741 - acc: 0.8990     \n",
      "Epoch 28/80\n",
      "693/693 [==============================] - 0s - loss: 0.2699 - acc: 0.8860     \n",
      "Test accuracy of model 3/5 is 83.50%:\n",
      "{'filter_size0': 128, 'dropout1': 0.2824092419989655, 'nb_epochs': 80, 'optimizer': <class 'keras.optimizers.Adam'>, 'fc_size0': 256, 'kernel_size1': 4, 'lr': 0.01, 'filter_size1': 512, 'kernel_size0': 4, 'dropout0': 0.41391641755648506, 'num_layers': {'dropout2': 0.39661008838715317, 'kernel_size2': 3, 'layers': 'three', 'filter_size2': 512}, 'activation': 'relu'}\n",
      "Epoch 1/80\n",
      "693/693 [==============================] - 12s - loss: 0.9649 - acc: 0.6190    \n",
      "Epoch 2/80\n",
      "693/693 [==============================] - 12s - loss: 0.8073 - acc: 0.7287    \n",
      "Epoch 3/80\n",
      "693/693 [==============================] - 11s - loss: 0.7184 - acc: 0.7590    \n",
      "Epoch 4/80\n",
      "693/693 [==============================] - 11s - loss: 0.5276 - acc: 0.7965    \n",
      "Epoch 5/80\n",
      "693/693 [==============================] - 11s - loss: 0.3855 - acc: 0.8442    \n",
      "Epoch 6/80\n",
      "693/693 [==============================] - 11s - loss: 0.3360 - acc: 0.8442    \n",
      "Epoch 7/80\n",
      "693/693 [==============================] - 12s - loss: 0.3125 - acc: 0.8730    \n",
      "Epoch 8/80\n",
      "693/693 [==============================] - 12s - loss: 0.2370 - acc: 0.9033    \n",
      "Epoch 9/80\n",
      "693/693 [==============================] - 11s - loss: 0.2433 - acc: 0.9033    \n",
      "Epoch 10/80\n",
      "693/693 [==============================] - 13s - loss: 0.2183 - acc: 0.9149    \n",
      "Epoch 11/80\n",
      "693/693 [==============================] - 13s - loss: 0.1844 - acc: 0.9293    \n",
      "Epoch 12/80\n",
      "693/693 [==============================] - 14s - loss: 0.1940 - acc: 0.9221    \n",
      "Epoch 13/80\n",
      "693/693 [==============================] - 13s - loss: 0.1695 - acc: 0.9380    \n",
      "Epoch 14/80\n",
      "693/693 [==============================] - 14s - loss: 0.1844 - acc: 0.9293    \n",
      "Epoch 15/80\n",
      "693/693 [==============================] - 13s - loss: 0.1573 - acc: 0.9322    \n",
      "Test accuracy of model 4/5 is 85.52%:\n"
     ]
    },
    {
     "data": {
      "text/plain": [
       "({'dropout0': 0.41391641755648506,\n",
       "  'dropout1': 0.2824092419989655,\n",
       "  'dropout2': 0.39661008838715317,\n",
       "  'fc_size0': 2,\n",
       "  'filter_size0': 3,\n",
       "  'filter_size1': 5,\n",
       "  'filter_size2': 4,\n",
       "  'kernel_size0': 1,\n",
       "  'kernel_size1': 1,\n",
       "  'kernel_size2': 0,\n",
       "  'lr': 0,\n",
       "  'num_layers': 1},\n",
       " 0.85521885521885521,\n",
       " <hyperopt.base.Trials at 0x936203a8d0>)"
      ]
     },
     "execution_count": 88,
     "metadata": {},
     "output_type": "execute_result"
    }
   ],
   "source": [
    "best_sh, best_score_sh, trials_sh = sh.tune_hyper_params(max_evals = 5)\n",
    "best_sh, best_score_sh, trials_sh"
   ]
  },
  {
   "cell_type": "code",
   "execution_count": 101,
   "metadata": {
    "ExecuteTime": {
     "end_time": "2017-11-06T13:32:02.576674Z",
     "start_time": "2017-11-06T13:32:02.292918Z"
    },
    "collapsed": true
   },
   "outputs": [],
   "source": [
    "sh_best_model = trials_sh.trials[4]['result']['model']\n",
    "sh_best_model.save('sh_best_model_dropout.h5')"
   ]
  },
  {
   "cell_type": "markdown",
   "metadata": {},
   "source": [
    "## Evaluation"
   ]
  },
  {
   "cell_type": "code",
   "execution_count": 102,
   "metadata": {
    "ExecuteTime": {
     "end_time": "2017-11-06T13:32:05.057712Z",
     "start_time": "2017-11-06T13:32:03.356179Z"
    },
    "collapsed": false,
    "run_control": {
     "frozen": false,
     "read_only": false
    }
   },
   "outputs": [
    {
     "name": "stdout",
     "output_type": "stream",
     "text": [
      "* Accuracy of classifying the val set: 85.52%\n"
     ]
    },
    {
     "data": {
      "text/plain": [
       "0.85521885521885521"
      ]
     },
     "execution_count": 102,
     "metadata": {},
     "output_type": "execute_result"
    }
   ],
   "source": [
    "# compute verification accuracy\n",
    "sh.get_accuracy(sh_best_model)[0]['acc']"
   ]
  },
  {
   "cell_type": "code",
   "execution_count": 103,
   "metadata": {
    "ExecuteTime": {
     "end_time": "2017-11-06T13:34:05.366816Z",
     "start_time": "2017-11-06T13:32:06.045518Z"
    },
    "collapsed": false,
    "run_control": {
     "frozen": false,
     "read_only": false
    }
   },
   "outputs": [
    {
     "name": "stdout",
     "output_type": "stream",
     "text": [
      "*Accuracy of classifying the test set at level 1: 43.84%\n",
      "*Accuracy of classifying the test set at level 2: 65.86%\n",
      "*Accuracy of classifying the test set at level 3: 77.34%\n",
      "Normalized confusion matrix\n",
      "[[ 0.24  0.17  0.07  0.22  0.31]\n",
      " [ 0.5   0.25  0.03  0.09  0.13]\n",
      " [ 0.01  0.    0.84  0.02  0.13]\n",
      " [ 0.26  0.17  0.11  0.22  0.24]\n",
      " [ 0.04  0.    0.32  0.    0.64]]\n"
     ]
    },
    {
     "data": {
      "image/png": "[encoded data removed]",
      "text/plain": [
       "<matplotlib.figure.Figure at 0x937dc6d5f8>"
      ]
     },
     "metadata": {},
     "output_type": "display_data"
    }
   ],
   "source": [
    "sh.compute_one_shot_accuracy(sh_best_model, max_acc_level = 3)\n",
    "sh.plot_confusion_matrix(sh_best_model, normalize = True)"
   ]
  },
  {
   "cell_type": "markdown",
   "metadata": {
    "run_control": {
     "frozen": false,
     "read_only": false
    }
   },
   "source": [
    "# Model ensemble\n",
    "\n",
    "We tried to play with a stacked model ensemble, but we have not finished. Some commands below will not make sense"
   ]
  },
  {
   "cell_type": "code",
   "execution_count": 17,
   "metadata": {
    "ExecuteTime": {
     "end_time": "2017-11-06T15:33:10.902774Z",
     "start_time": "2017-11-06T15:33:10.557840Z"
    },
    "collapsed": true
   },
   "outputs": [],
   "source": [
    "from sklearn import linear_model, datasets\n",
    "import numpy as np\n",
    "logreg = linear_model.LogisticRegression(C=1e5)"
   ]
  },
  {
   "cell_type": "code",
   "execution_count": 19,
   "metadata": {
    "ExecuteTime": {
     "end_time": "2017-11-06T15:35:10.217271Z",
     "start_time": "2017-11-06T15:33:42.158699Z"
    },
    "collapsed": false,
    "run_control": {
     "frozen": false,
     "read_only": false
    }
   },
   "outputs": [
    {
     "name": "stdout",
     "output_type": "stream",
     "text": [
      "*Accuracy of classifying the test set at level 1: 66.26%\n",
      "*Accuracy of classifying the test set at level 1: 66.62%\n"
     ]
    }
   ],
   "source": [
    "#y_test_pred_sh = sh.compute_one_shot_accuracy(sh_best_model, max_acc_level = 1)[0]['y_pred']\n",
    "y_test_pred_bm = bm_04567.get_accuracy(bm_04567_best_model, max_acc_level = 1)[0]['y_pred']\n",
    "y_test_pred_tl = tl.get_accuracy(tl_best_model, max_acc_level = 1)[0]['y_pred']\n",
    "\n",
    "\n",
    "X_test_ens = np.stack((y_test_pred_bm, y_test_pred_tl), axis=-1)\n",
    "y_test_ens = dh.y_test_04567"
   ]
  },
  {
   "cell_type": "code",
   "execution_count": 20,
   "metadata": {
    "ExecuteTime": {
     "end_time": "2017-11-06T15:35:10.438082Z",
     "start_time": "2017-11-06T15:35:10.218276Z"
    },
    "collapsed": false,
    "run_control": {
     "frozen": false,
     "read_only": false
    }
   },
   "outputs": [
    {
     "data": {
      "text/plain": [
       "LogisticRegression(C=100000.0, class_weight=None, dual=False,\n",
       "          fit_intercept=True, intercept_scaling=1, max_iter=100,\n",
       "          multi_class='ovr', n_jobs=1, penalty='l2', random_state=None,\n",
       "          solver='liblinear', tol=0.0001, verbose=0, warm_start=False)"
      ]
     },
     "execution_count": 20,
     "metadata": {},
     "output_type": "execute_result"
    }
   ],
   "source": [
    "logreg.fit(X_test_ens, y_test_ens)"
   ]
  },
  {
   "cell_type": "code",
   "execution_count": 21,
   "metadata": {
    "ExecuteTime": {
     "end_time": "2017-11-06T15:35:10.646638Z",
     "start_time": "2017-11-06T15:35:10.440097Z"
    },
    "collapsed": false,
    "run_control": {
     "frozen": false,
     "read_only": false
    }
   },
   "outputs": [
    {
     "data": {
      "text/plain": [
       "0.6694"
      ]
     },
     "execution_count": 21,
     "metadata": {},
     "output_type": "execute_result"
    }
   ],
   "source": [
    "y_pred_ens = logreg.predict(X_test_ens)\n",
    "acc_ens = np.sum(y_test_ens == y_pred_ens) / len(y_test_ens)\n",
    "acc_ens"
   ]
  },
  {
   "cell_type": "code",
   "execution_count": 22,
   "metadata": {
    "ExecuteTime": {
     "end_time": "2017-11-06T15:38:26.976205Z",
     "start_time": "2017-11-06T15:38:26.727517Z"
    },
    "collapsed": false,
    "run_control": {
     "frozen": false,
     "read_only": false
    }
   },
   "outputs": [
    {
     "data": {
      "text/plain": [
       "0.7006"
      ]
     },
     "execution_count": 22,
     "metadata": {},
     "output_type": "execute_result"
    }
   ],
   "source": [
    "# Decision tree\n",
    "from sklearn import tree\n",
    "clf = tree.DecisionTreeClassifier()\n",
    "clf = clf.fit(X_test_ens, y_test_ens)\n",
    "y_pred_ens = clf.predict(X_test_ens)\n",
    "acc_ens = np.sum(y_test_ens == y_pred_ens) / len(y_test_ens)\n",
    "acc_ens"
   ]
  },
  {
   "cell_type": "code",
   "execution_count": null,
   "metadata": {
    "collapsed": true
   },
   "outputs": [],
   "source": []
  }
 ],
 "metadata": {
  "anaconda-cloud": {},
  "hide_input": false,
  "kernelspec": {
   "display_name": "Python [conda root]",
   "language": "python",
   "name": "conda-root-py"
  },
  "language_info": {
   "codemirror_mode": {
    "name": "ipython",
    "version": 3
   },
   "file_extension": ".py",
   "mimetype": "text/x-python",
   "name": "python",
   "nbconvert_exporter": "python",
   "pygments_lexer": "ipython3",
   "version": "3.5.2"
  }
 },
 "nbformat": 4,
 "nbformat_minor": 0
}
